{
 "cells": [
  {
   "cell_type": "markdown",
   "metadata": {},
   "source": [
    "# Walkthrough Challenge 1 - Initialize the Kernel and Run Semantic Functions\n",
    "\n",
    "Duration: 30 minutes\n",
    "\n",
    "## Overview\n",
    "- In this challenge, you will start by configuring and initializing the kernel.\n",
    "- You will also learn how to use Semantic Kernel to define and run Semantic Functions with C#.\n",
    "- In the end, you will use Semantic Kernel to dynamically generate prompts at runtime.\n",
    "\n",
    "## Prerequisites\n",
    "\n",
    "- Please ensure that you have completed the [Setup](../setup/setup.ipynb) before starting this challenge."
   ]
  },
  {
   "cell_type": "markdown",
   "metadata": {},
   "source": [
    "### Task 1: Configure and Initialize Semantic Kernel\n",
    "\n",
    "⚠️ Note: You should have already completed all tasks on the [Setup](../setup/setup.ipynb). If you have not, please go back and complete it now.\n",
    "\n",
    "#### Step 1: Load Semantic Kernel settings\n",
    "\n",
    "In this step, we will load the Semantic Kernel settings that we created in the [Setup](../setup/setup.ipynb) notebook."
   ]
  },
  {
   "cell_type": "code",
   "execution_count": 1,
   "metadata": {
    "dotnet_interactive": {
     "language": "csharp"
    },
    "polyglot_notebook": {
     "kernelName": "csharp"
    },
    "vscode": {
     "languageId": "polyglot-notebook"
    }
   },
   "outputs": [
    {
     "data": {
      "text/html": [
       "<div><div></div><div></div><div><strong>Installed Packages</strong><ul><li><span>Microsoft.SemanticKernel, 1.0.1</span></li></ul></div></div>"
      ]
     },
     "metadata": {},
     "output_type": "display_data"
    }
   ],
   "source": [
    "#r \"nuget: Microsoft.SemanticKernel, 1.0.1\"\n",
    "\n",
    "#!import ../setup/config/Settings.cs"
   ]
  },
  {
   "cell_type": "markdown",
   "metadata": {},
   "source": [
    "#### Step 2: Initialize Semantic Kernel"
   ]
  },
  {
   "cell_type": "code",
   "execution_count": 15,
   "metadata": {
    "dotnet_interactive": {
     "language": "csharp"
    },
    "polyglot_notebook": {
     "kernelName": "csharp"
    },
    "vscode": {
     "languageId": "polyglot-notebook"
    }
   },
   "outputs": [],
   "source": [
    "using Microsoft.SemanticKernel;\n",
    "using Microsoft.SemanticKernel.Connectors.OpenAI;\n",
    "using Microsoft.SemanticKernel.TemplateEngine;\n",
    "using Kernel = Microsoft.SemanticKernel.Kernel;\n",
    "using Microsoft.DotNet.Interactive;\n",
    "using InteractiveKernel = Microsoft.DotNet.Interactive.Kernel;\n",
    "\n",
    "var builder = Kernel.CreateBuilder();\n",
    "\n",
    "// Configure AI service credentials used by the kernel\n",
    "var (useAzureOpenAI, model, azureEndpoint, apiKey, orgId) = Settings.LoadFromFile(\"../setup/config/settings.json\");\n",
    "\n",
    "if (useAzureOpenAI)\n",
    "    builder.AddAzureOpenAIChatCompletion(model, azureEndpoint, apiKey);\n",
    "else\n",
    "    builder.AddOpenAIChatCompletion(model, apiKey, orgId);\n",
    "\n",
    "var kernel = builder.Build();"
   ]
  },
  {
   "cell_type": "markdown",
   "metadata": {},
   "source": [
    "#### Step 3: Create a Semantic Function\n",
    "\n",
    "We will create a Semantic Function that will be used to generate prompts at runtime.\n",
    "\n",
    "A prompt is a question, statement or a command that the user wants the model to respond to. In this case, we will create a prompt that will ask the model to summarize a given text input.\n",
    "\n",
    "Notice that we are introducing a variable `{{$input}}`, which will be replaced with the user input at runtime."
   ]
  },
  {
   "cell_type": "code",
   "execution_count": 3,
   "metadata": {
    "dotnet_interactive": {
     "language": "csharp"
    },
    "polyglot_notebook": {
     "kernelName": "csharp"
    },
    "vscode": {
     "languageId": "polyglot-notebook"
    }
   },
   "outputs": [],
   "source": [
    "string skPrompt = \"\"\"\n",
    "{{$input}}\n",
    "\n",
    "Summarize the above content.\n",
    "The summary should be two sentences long.\n",
    "\"\"\";"
   ]
  },
  {
   "cell_type": "markdown",
   "metadata": {},
   "source": [
    "If you want to inspect how the prompt is generated at runtime, you can use a `KernelPromptTemplateFactory` to do so. It will render the prompt, based on the template in the previous step."
   ]
  },
  {
   "cell_type": "code",
   "execution_count": 4,
   "metadata": {
    "dotnet_interactive": {
     "language": "csharp"
    },
    "polyglot_notebook": {
     "kernelName": "csharp"
    },
    "vscode": {
     "languageId": "polyglot-notebook"
    }
   },
   "outputs": [
    {
     "name": "stdout",
     "output_type": "stream",
     "text": [
      "\n",
      "\n",
      "Summarize the above content.\n",
      "The summary should be 3 sentences long.\n"
     ]
    }
   ],
   "source": [
    "var promptTemplateConfig = new PromptTemplateConfig(skPrompt);\n",
    "\n",
    "var promptTemplateFactory = new KernelPromptTemplateFactory();\n",
    "var promptTemplate = promptTemplateFactory.Create(promptTemplateConfig);\n",
    "\n",
    "var renderedPrompt = await promptTemplate.RenderAsync(kernel);\n",
    "\n",
    "Console.WriteLine(renderedPrompt);"
   ]
  },
  {
   "cell_type": "markdown",
   "metadata": {},
   "source": [
    "Along with the prompt, let's also configure the parameters for the Semantic Function execution.\n",
    "`MaxTokens` is the maximum number of tokens that the model will generate. `Temperature` is a hyperparameter that controls the randomness of the model. `TopP` is another hyperparameter that controls the diversity of the model."
   ]
  },
  {
   "cell_type": "code",
   "execution_count": 5,
   "metadata": {
    "dotnet_interactive": {
     "language": "csharp"
    },
    "polyglot_notebook": {
     "kernelName": "csharp"
    },
    "vscode": {
     "languageId": "polyglot-notebook"
    }
   },
   "outputs": [],
   "source": [
    "var executionSettings = new OpenAIPromptExecutionSettings\n",
    "{\n",
    "    MaxTokens = 500,\n",
    "    Temperature = 0.2,\n",
    "    TopP = 0.5\n",
    "};"
   ]
  },
  {
   "cell_type": "markdown",
   "metadata": {},
   "source": [
    "With the text prompt and the parameters ready, we can now create the Semantic Function, that the kernel can execute."
   ]
  },
  {
   "cell_type": "code",
   "execution_count": 6,
   "metadata": {
    "dotnet_interactive": {
     "language": "csharp"
    },
    "polyglot_notebook": {
     "kernelName": "csharp"
    },
    "vscode": {
     "languageId": "polyglot-notebook"
    }
   },
   "outputs": [],
   "source": [
    "var summaryFunction = kernel.CreateFunctionFromPrompt(skPrompt, executionSettings);"
   ]
  },
  {
   "cell_type": "markdown",
   "metadata": {},
   "source": [
    "#### Step 4: Run Semantic Function\n",
    "\n",
    "Let's initialize some content for the summarization function. We are going to use a sample text from [Wikipedia](https://en.wikipedia.org/wiki/Hanging_Gardens_of_Babylon), which is about the Hanging Gardens of Babylon, one of the Seven Wonders of the Ancient World."
   ]
  },
  {
   "cell_type": "code",
   "execution_count": 8,
   "metadata": {
    "dotnet_interactive": {
     "language": "csharp"
    },
    "polyglot_notebook": {
     "kernelName": "csharp"
    },
    "vscode": {
     "languageId": "polyglot-notebook"
    }
   },
   "outputs": [],
   "source": [
    "var input = \"\"\"\n",
    "The Hanging Gardens of Babylon were one of the Seven Wonders of the Ancient World listed by Hellenic culture.\n",
    "They were described as a remarkable feat of engineering with an ascending series of tiered gardens containing a wide variety of trees, shrubs, and vines, resembling a large green mountain constructed of mud bricks.\n",
    "It was said to have been built in the ancient city of Babylon, near present-day Hillah, Babil province, in Iraq.\n",
    "The Hanging Gardens' name is derived from the Greek word κρεμαστός (kremastós, lit. 'overhanging'), which has a broader meaning than the modern English word \"hanging\" and refers to trees being planted on a raised structure such as a terrace.\n",
    "\"\"\";"
   ]
  },
  {
   "cell_type": "markdown",
   "metadata": {},
   "source": [
    "And we can now use the summary function to summarize the input text:"
   ]
  },
  {
   "cell_type": "code",
   "execution_count": 9,
   "metadata": {
    "dotnet_interactive": {
     "language": "csharp"
    },
    "polyglot_notebook": {
     "kernelName": "csharp"
    },
    "vscode": {
     "languageId": "polyglot-notebook"
    }
   },
   "outputs": [
    {
     "name": "stdout",
     "output_type": "stream",
     "text": [
      "The Hanging Gardens of Babylon were one of the Seven Wonders of the Ancient World, renowned for their elaborate design featuring tiered gardens with a diverse array of flora. They were an engineering marvel made of mud bricks, resembling a verdant mountain, and were located in the ancient city of Babylon, in what is now Iraq. The term \"hanging\" in their name comes from the Greek for \"overhanging,\" referring to the gardens being set on terraces.\n"
     ]
    }
   ],
   "source": [
    "var summaryResult = await kernel.InvokeAsync(summaryFunction, new() { [\"input\"] = input });\n",
    "\n",
    "Console.WriteLine(summaryResult);"
   ]
  },
  {
   "cell_type": "markdown",
   "metadata": {},
   "source": [
    "The code above goes through all the steps of creating a kernel, rendering a prompt, and executing the summarization function. However, we can simplify this process by using the `InvokePromptAsync` method, which will do all the steps above in one go:"
   ]
  },
  {
   "cell_type": "code",
   "execution_count": 10,
   "metadata": {
    "dotnet_interactive": {
     "language": "csharp"
    },
    "polyglot_notebook": {
     "kernelName": "csharp"
    },
    "vscode": {
     "languageId": "polyglot-notebook"
    }
   },
   "outputs": [
    {
     "name": "stdout",
     "output_type": "stream",
     "text": [
      "The Hanging Gardens of Babylon were one of the Seven Wonders of the Ancient World, renowned for their terraced design filled with diverse vegetation. They were an extraordinary example of engineering, located in the ancient city of Babylon, which is near today's Hillah in Iraq.\n"
     ]
    }
   ],
   "source": [
    "string skPrompt = \"\"\"\n",
    "{{$input}}\n",
    "\n",
    "Summarize the content above.\n",
    "The summary should be two sentences long.\n",
    "\"\"\";\n",
    "\n",
    "var result = await kernel.InvokePromptAsync(skPrompt, new() { [\"input\"] = input });\n",
    "\n",
    "Console.WriteLine(result);"
   ]
  },
  {
   "cell_type": "markdown",
   "metadata": {},
   "source": [
    "Here is another example that will categorize the input text of an Hotel support ticket into one of the categories: `booking`, `cancellation`, `refund`, `complaint`, `other` and will also provide a priority for the ticket: `low`, `medium`, `high`.\n",
    "\n",
    "Notice that in the example we are going to provide some examples for the model to learn from. This is called `few shot learning`, and it will improve the accuracy of the model response."
   ]
  },
  {
   "cell_type": "code",
   "execution_count": 23,
   "metadata": {
    "dotnet_interactive": {
     "language": "csharp"
    },
    "polyglot_notebook": {
     "kernelName": "csharp"
    },
    "vscode": {
     "languageId": "polyglot-notebook"
    }
   },
   "outputs": [
    {
     "name": "stdout",
     "output_type": "stream",
     "text": [
      "{\n",
      "    \"category\": \"other\",\n",
      "    \"priority\": \"high\"\n",
      "}\n"
     ]
    }
   ],
   "source": [
    "string skPrompt = \"\"\"\n",
    "{{$input}}\n",
    "\n",
    "Categorize the content above in one of the following categories:\n",
    "[\"booking\", \"cancellation\", \"refund\", \"complaint\", \"other\"]\n",
    "\n",
    "Attribute one of the following priorities to the above content:\n",
    "[\"low\", \"medium\", \"high\"]\n",
    "\n",
    "The response should be a JSON object with the following structure:\n",
    "{\n",
    "    \"category\": \"booking\",\n",
    "    \"priority\": \"high\"\n",
    "}\n",
    "\n",
    "Example 1:\n",
    "USER: When I entered the room, I found that the bed was not made.\n",
    "RESPONSE: {\"category\": \"complaint\", \"priority\": \"high\"}\n",
    "\"\"\";\n",
    "\n",
    "var hotelSupportTicket = await InteractiveKernel.GetInputAsync(\"Enter the hotel support ticket: \");\n",
    "\n",
    "var result = await kernel.InvokePromptAsync(skPrompt, new() { [\"input\"] = hotelSupportTicket });\n",
    "\n",
    "Console.WriteLine(result);"
   ]
  },
  {
   "cell_type": "markdown",
   "metadata": {},
   "source": [
    "Experiment with the example above and try to provide different inputs to see how the model responds. You can also try to provide different examples for the model to learn from."
   ]
  },
  {
   "cell_type": "markdown",
   "metadata": {},
   "source": [
    "You successfully completed challenge 1! 🚀🚀🚀"
   ]
  }
 ],
 "metadata": {
  "language_info": {
   "name": "python"
  }
 },
 "nbformat": 4,
 "nbformat_minor": 2
}
