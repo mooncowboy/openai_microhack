{
 "cells": [
  {
   "cell_type": "markdown",
   "metadata": {},
   "source": [
    "# Walkthrough Challenge 5 - Multi-Agent Chatroom\n",
    "\n",
    "Duration: 30 minutes\n",
    "\n",
    "## Overview\n",
    "- In this challenge, you will be introduced to the concept of agents and multi-agent collaboration.\n",
    "- You will create a multi-agent chatroom where agents can communicate with each other, to solve a common task.\n",
    "\n",
    "## Prerequisites\n",
    "\n",
    "- Please ensure that you have completed the [Setup](../setup/setup.ipynb) before starting this challenge."
   ]
  },
  {
   "cell_type": "markdown",
   "metadata": {},
   "source": [
    "### Task 1: Configure and Initialize Semantic Kernel\n",
    "\n",
    "⚠️ Note: You should have already completed all tasks on the [Setup](../setup/setup.ipynb). If you have not, please go back and complete it now.\n",
    "\n",
    "#### Step 1: Load Semantic Kernel settings\n",
    "\n",
    "In this step, we will load the Semantic Kernel settings that we created in the [Setup](../setup/setup.ipynb) notebook."
   ]
  },
  {
   "cell_type": "code",
   "execution_count": 1,
   "metadata": {
    "dotnet_interactive": {
     "language": "csharp"
    },
    "polyglot_notebook": {
     "kernelName": "csharp"
    },
    "vscode": {
     "languageId": "polyglot-notebook"
    }
   },
   "outputs": [
    {
     "data": {
      "text/html": [
       "<div><div></div><div></div><div><strong>Installed Packages</strong><ul><li><span>Microsoft.SemanticKernel, 1.13.0</span></li><li><span>Microsoft.SemanticKernel.Agents.Abstractions, 1.13.0-alpha</span></li><li><span>Microsoft.SemanticKernel.Agents.Core, 1.13.0-alpha</span></li></ul></div></div>"
      ]
     },
     "metadata": {},
     "output_type": "display_data"
    }
   ],
   "source": [
    "#r \"nuget: Microsoft.SemanticKernel, 1.13.0\"\n",
    "#r \"nuget: Microsoft.SemanticKernel.Agents.Abstractions, 1.13.0-alpha\"\n",
    "#r \"nuget: Microsoft.SemanticKernel.Agents.Core, 1.13.0-alpha\"\n",
    "\n",
    "#!import ../setup/config/Settings.cs\n",
    "#!import ../setup/config/Utils.cs"
   ]
  },
  {
   "cell_type": "markdown",
   "metadata": {},
   "source": [
    "#### Step 2: Initialize Semantic Kernel"
   ]
  },
  {
   "cell_type": "code",
   "execution_count": 2,
   "metadata": {
    "dotnet_interactive": {
     "language": "csharp"
    },
    "polyglot_notebook": {
     "kernelName": "csharp"
    },
    "vscode": {
     "languageId": "polyglot-notebook"
    }
   },
   "outputs": [],
   "source": [
    "using Microsoft.SemanticKernel;\n",
    "using Microsoft.SemanticKernel.TextToImage;\n",
    "using Microsoft.SemanticKernel.Embeddings;\n",
    "using Microsoft.SemanticKernel.ChatCompletion;\n",
    "using Microsoft.SemanticKernel.Connectors.OpenAI;\n",
    "using Microsoft.SemanticKernel.Agents;\n",
    "using Microsoft.SemanticKernel.Agents.OpenAI;\n",
    "using Microsoft.SemanticKernel.Agents.Chat;\n",
    "using System.Threading;\n",
    "using System.Threading.Tasks;\n",
    "using System.Collections.Generic;\n",
    "using Kernel = Microsoft.SemanticKernel.Kernel;\n",
    "using Microsoft.DotNet.Interactive;\n",
    "using InteractiveKernel = Microsoft.DotNet.Interactive.Kernel;\n",
    "\n",
    "var builder = Kernel.CreateBuilder();\n",
    "\n",
    "// Configure AI service credentials used by the kernel\n",
    "var (useAzureOpenAI, model, azureEndpoint, apiKey, orgId) = Settings.LoadFromFile(\"../setup/config/settings.json\");\n",
    "\n",
    "if (useAzureOpenAI)\n",
    "    builder.AddAzureOpenAIChatCompletion(model, azureEndpoint, apiKey);\n",
    "else\n",
    "    builder.AddOpenAIChatCompletion(model, apiKey, orgId);\n",
    "\n",
    "var kernel = builder.Build();"
   ]
  },
  {
   "cell_type": "markdown",
   "metadata": {},
   "source": [
    "### Task 2: Build the agent personas\n"
   ]
  },
  {
   "cell_type": "code",
   "execution_count": 4,
   "metadata": {
    "dotnet_interactive": {
     "language": "csharp"
    },
    "polyglot_notebook": {
     "kernelName": "csharp"
    },
    "vscode": {
     "languageId": "polyglot-notebook"
    }
   },
   "outputs": [],
   "source": [
    "private const string ProductOwnerName = \"ProductOwner\";\n",
    "private const string ProductOwnerInstructions =\n",
    "    \"\"\"\n",
    "    You are a Product Owner responsible for ensuring the acceptance criteria align with the product vision and meet the stakeholders' requirements.\n",
    "    Your goal is to initiate and validate acceptance criteria that clearly define the conditions for a user story to be considered complete.\n",
    "    Consider feedback from the Technical Lead, UX Designer, and QA Analyst.\n",
    "    Make the final decision on whether the acceptance criteria are ready and comprehensive.\n",
    "    Provide feedback if the acceptance criteria are incomplete or unclear, suggesting improvements where necessary.\n",
    "    If satisfactory, state that the acceptance criteria are approved. If they are approved, also provide the last version of the acceptance criteria.\n",
    "    Be concise and to the point.\n",
    "    \"\"\";\n",
    "\n",
    "private const string TechnicalLeadName = \"TechnicalLead\";\n",
    "private const string TechnicalLeadInstructions =\n",
    "    \"\"\"\n",
    "    You are a Technical Lead with expertise in assessing the technical feasibility and implementation details of acceptance criteria.\n",
    "    Your goal is to review the acceptance criteria for technical completeness, potential challenges, and feasibility within the current architecture.\n",
    "    Provide feedback on potential technical risks or areas needing clarification, and suggest any improvements to the acceptance criteria.\n",
    "    Be concise and to the point.\n",
    "    Only provide a single proposal per response.\n",
    "    \"\"\";\n",
    "\n",
    "private const string UXDesignerName = \"UXDesigner\";\n",
    "private const string UXDesignerInstructions =\n",
    "    \"\"\"\n",
    "    You are a UX Designer focused on ensuring that the acceptance criteria support a positive user experience and adhere to design principles.\n",
    "    Your goal is to review the acceptance criteria to ensure they account for user interaction, usability, and accessibility.\n",
    "    Provide feedback on how the acceptance criteria can be improved to enhance the user experience.\n",
    "    Be concise and to the point.\n",
    "    Only provide a single proposal per response.\n",
    "    \"\"\";\n",
    "\n",
    "private const string QAAnalystName = \"QAAnalyst\";\n",
    "private const string QAAnalystInstructions =\n",
    "    \"\"\"\n",
    "    You are a QA Analyst responsible for ensuring that the acceptance criteria are clear, detailed, and testable.\n",
    "    Your goal is to review the acceptance criteria to ensure they are clear, concise, and include specific details that can be used for testing.\n",
    "    Provide feedback on any missing or unclear acceptance criteria and suggest improvements to make them more testable.\n",
    "    Be concise and to the point.\n",
    "    Only provide a single proposal per response.\n",
    "    \"\"\";\n",
    "\n",
    "private const string BusinessAnalystName = \"BusinessAnalyst\";\n",
    "private const string BusinessAnalystInstructions =\n",
    "    \"\"\"\n",
    "    You are a Business Analyst responsible for writing clear, concise, and complete acceptance criteria based on the user story.\n",
    "    Your goal is to draft acceptance criteria that accurately capture the user needs, business value, and testable conditions.\n",
    "    Consider feedback and suggestions from the Product Owner, Technical Lead, UX Designer, and QA Analyst to refine and improve the acceptance criteria.\n",
    "    Ensure the acceptance criteria are well-structured and ready for development.\n",
    "    Be concise and to the point.\n",
    "    \"\"\";\n"
   ]
  },
  {
   "cell_type": "code",
   "execution_count": 5,
   "metadata": {
    "dotnet_interactive": {
     "language": "csharp"
    },
    "polyglot_notebook": {
     "kernelName": "csharp"
    },
    "vscode": {
     "languageId": "polyglot-notebook"
    }
   },
   "outputs": [],
   "source": [
    "#pragma warning disable SKEXP0110\n",
    "\n",
    "Microsoft.SemanticKernel.Agents.ChatCompletionAgent agentProductOwner =\n",
    "    new()\n",
    "    {\n",
    "        Instructions = ProductOwnerInstructions,\n",
    "        Name = ProductOwnerName,\n",
    "        Kernel = kernel,\n",
    "    };\n",
    "\n",
    "Microsoft.SemanticKernel.Agents.ChatCompletionAgent agentTechnicalLead =\n",
    "    new()\n",
    "    {\n",
    "        Instructions = TechnicalLeadInstructions,\n",
    "        Name = TechnicalLeadName,\n",
    "        Kernel = kernel,\n",
    "    };\n",
    "\n",
    "Microsoft.SemanticKernel.Agents.ChatCompletionAgent agentUXDesigner =\n",
    "    new()\n",
    "    {\n",
    "        Instructions = UXDesignerInstructions,\n",
    "        Name = UXDesignerName,\n",
    "        Kernel = kernel,\n",
    "    };\n",
    "\n",
    "Microsoft.SemanticKernel.Agents.ChatCompletionAgent agentQAAnalyst =\n",
    "    new()\n",
    "    {\n",
    "        Instructions = QAAnalystInstructions,\n",
    "        Name = QAAnalystName,\n",
    "        Kernel = kernel,\n",
    "    };\n",
    "\n",
    "Microsoft.SemanticKernel.Agents.ChatCompletionAgent agentBusinessAnalyst =\n",
    "    new()\n",
    "    {\n",
    "        Instructions = BusinessAnalystInstructions,\n",
    "        Name = BusinessAnalystName,\n",
    "        Kernel = kernel,\n",
    "    };"
   ]
  },
  {
   "cell_type": "code",
   "execution_count": 6,
   "metadata": {
    "dotnet_interactive": {
     "language": "csharp"
    },
    "polyglot_notebook": {
     "kernelName": "csharp"
    },
    "vscode": {
     "languageId": "polyglot-notebook"
    }
   },
   "outputs": [],
   "source": [
    "#pragma warning disable SKEXP0110\n",
    "\n",
    "private sealed class ApprovalTerminationStrategy : TerminationStrategy\n",
    "{\n",
    "    // Terminate when the final message contains the term \"approve\"\n",
    "    protected override Task<bool> ShouldAgentTerminateAsync(Agent agent, IReadOnlyList<ChatMessageContent> history, CancellationToken cancellationToken)\n",
    "        => Task.FromResult(history[history.Count - 1].Content?.Contains(\"approved\", StringComparison.OrdinalIgnoreCase) ?? false);\n",
    "}"
   ]
  },
  {
   "cell_type": "code",
   "execution_count": 8,
   "metadata": {
    "dotnet_interactive": {
     "language": "csharp"
    },
    "polyglot_notebook": {
     "kernelName": "csharp"
    },
    "vscode": {
     "languageId": "polyglot-notebook"
    }
   },
   "outputs": [],
   "source": [
    "KernelFunction terminationFunction =\n",
    "    KernelFunctionFactory.CreateFromPrompt(\n",
    "        \"\"\"\n",
    "        Determine if the copy has been approved.  If so, respond with a single word: yes\n",
    "\n",
    "        History:\n",
    "        {{$history}}\n",
    "        \"\"\");"
   ]
  },
  {
   "cell_type": "code",
   "execution_count": 9,
   "metadata": {
    "dotnet_interactive": {
     "language": "csharp"
    },
    "polyglot_notebook": {
     "kernelName": "csharp"
    },
    "vscode": {
     "languageId": "polyglot-notebook"
    }
   },
   "outputs": [
    {
     "name": "stdout",
     "output_type": "stream",
     "text": [
      "# user: '**User Story**:\n",
      "As a regular user, I want to securely log into my account using my username and password, so that I can access personalized features and maintain my privacy.\n",
      "\n",
      "**Acceptance Criteria**:\n",
      "1. Users can click a \"Login\" button on the homepage which directs them to the login page.\n",
      "2. Users enter their username and password in the provided fields.\n",
      "3. A 'Login' button submits the credentials, which should be encrypted during transmission.\n",
      "4. Users are redirected to their personalized dashboard upon successful authentication.\n",
      "5. An error message, \"Incorrect username or password. Please try again,\" appears for invalid credentials.\n",
      "6. After three consecutive failed login attempts, the account is locked for 15 minutes to prevent unauthorized access.\n",
      "7. A 'Forgot Password?' link is available that directs users to a secure password reset page.\n",
      "8. The login process (from clicking 'Login' to reaching the dashboard) is achieved within 5 seconds under standard conditions.'\n",
      "# assistant - BusinessAnalyst: 'The acceptance criteria for the user story \"As a regular user, I want to securely log into my account using my username and password, so that I can access personalized features and maintain my privacy\" are as follows:\n",
      "\n",
      "1. Upon clicking the \"Login\" button on the homepage, users are directed to the login page.\n",
      "2. Users can enter their username and password in the provided fields.\n",
      "3. When the 'Login' button is clicked, the submitted credentials are securely encrypted during transmission.\n",
      "4. Upon successful authentication, users are redirected to their personalized dashboard.\n",
      "5. In case of invalid credentials, an error message \"Incorrect username or password. Please try again\" is displayed.\n",
      "6. Account locking mechanism is triggered after three consecutive failed login attempts, and the account remains locked for 15 minutes.\n",
      "7. A 'Forgot Password?' link is available, directing users to a secure password reset page.\n",
      "8. The entire login process, from clicking 'Login' to reaching the dashboard, is accomplished within 5 seconds under standard conditions.\n",
      "\n",
      "Please review and provide feedback for further refinement.'\n",
      "# assistant - TechnicalLead: 'The acceptance criteria are clear and comprehensive. However, it would be beneficial to include details about the encryption mechanism used for transmitting credentials. Additionally, consider including a requirement for logging successful and failed login attempts for security auditing purposes.'\n",
      "# assistant - UXDesigner: 'The acceptance criteria could be improved by adding a requirement for multi-factor authentication to enhance security, in addition to the username and password login.'\n",
      "# assistant - QAAnalyst: 'The acceptance criteria for the user story appear to be comprehensive and testable. However, it would be beneficial to include specific details about the encryption algorithm being used for transmitting credentials to ensure thorough testing.'\n",
      "# assistant - ProductOwner: 'The acceptance criteria are approved with the following updates:\n",
      "1. Add details about the encryption mechanism used for transmitting credentials.\n",
      "2. Include a requirement for logging successful and failed login attempts for security auditing purposes.\n",
      "3. Add a requirement for multi-factor authentication to enhance security.\n",
      "\n",
      "**Updated Acceptance Criteria**:\n",
      "1. Upon clicking the \"Login\" button on the homepage, users are directed to the login page.\n",
      "2. Users can enter their username and password in the provided fields.\n",
      "3. When the 'Login' button is clicked, the submitted credentials are securely encrypted using [specify encryption mechanism] during transmission.\n",
      "4. Upon successful authentication, users are redirected to their personalized dashboard.\n",
      "5. In case of invalid credentials, an error message \"Incorrect username or password. Please try again\" is displayed.\n",
      "6. Account locking mechanism is triggered after three consecutive failed login attempts, and the account remains locked for 15 minutes. Successful and failed login attempts are logged for security auditing purposes.\n",
      "7. A 'Forgot Password?' link is available, directing users to a secure password reset page.\n",
      "8. Multi-factor authentication is available in addition to username and password login.\n",
      "9. The entire login process, from clicking 'Login' to reaching the dashboard, is accomplished within 5 seconds under standard conditions.\n",
      "\n",
      "Please review and confirm the final version.'\n",
      "# IS COMPLETE: True\n"
     ]
    }
   ],
   "source": [
    "#pragma warning disable SKEXP0110, SKEXP0001\n",
    "\n",
    "// Create a nexus for agent interaction.\n",
    "var chat =\n",
    "    new AgentGroupChat(agentBusinessAnalyst, agentTechnicalLead, agentUXDesigner, agentQAAnalyst, agentProductOwner)\n",
    "    {\n",
    "        ExecutionSettings =\n",
    "            new()\n",
    "            {\n",
    "                // Here a TerminationStrategy subclass is used that will terminate when\n",
    "                // an assistant message contains the term \"approved\".\n",
    "                TerminationStrategy =\n",
    "                    new KernelFunctionTerminationStrategy(terminationFunction, kernel)\n",
    "                    {\n",
    "                        // Only the Product Owner may approve.\n",
    "                        Agents = [agentProductOwner],\n",
    "                        // Customer result parser to determine if the response is \"yes\"\n",
    "                        ResultParser = (result) => result.GetValue<string>()?.Contains(\"yes\", StringComparison.OrdinalIgnoreCase) ?? false,\n",
    "                        // The prompt variable name for the history argument.\n",
    "                        HistoryVariableName = \"history\",\n",
    "                        // Limit total number of turns\n",
    "                        MaximumIterations = 10\n",
    "                    }\n",
    "            }\n",
    "    };\n",
    "\n",
    "// Invoke chat and display messages.\n",
    "string input =\n",
    "\"\"\"\n",
    "**User Story**:\n",
    "As a regular user, I want to securely log into my account using my username and password, so that I can access personalized features and maintain my privacy.\n",
    "\n",
    "**Acceptance Criteria**:\n",
    "1. Users can click a \"Login\" button on the homepage which directs them to the login page.\n",
    "2. Users enter their username and password in the provided fields.\n",
    "3. A 'Login' button submits the credentials, which should be encrypted during transmission.\n",
    "4. Users are redirected to their personalized dashboard upon successful authentication.\n",
    "5. An error message, \"Incorrect username or password. Please try again,\" appears for invalid credentials.\n",
    "6. After three consecutive failed login attempts, the account is locked for 15 minutes to prevent unauthorized access.\n",
    "7. A 'Forgot Password?' link is available that directs users to a secure password reset page.\n",
    "8. The login process (from clicking 'Login' to reaching the dashboard) is achieved within 5 seconds under standard conditions.\n",
    "\"\"\";\n",
    "\n",
    "chat.AddChatMessage(new ChatMessageContent(AuthorRole.User, input));\n",
    "Console.WriteLine($\"# {AuthorRole.User}: '{input}'\");\n",
    "\n",
    "await foreach (var content in chat.InvokeAsync())\n",
    "{\n",
    "    Console.WriteLine($\"# {content.Role} - {content.AuthorName ?? \"*\"}: '{content.Content}'\");\n",
    "}\n",
    "\n",
    "Console.WriteLine($\"# IS COMPLETE: {chat.IsComplete}\");"
   ]
  },
  {
   "cell_type": "markdown",
   "metadata": {},
   "source": [
    "### Task 2: Create a chatbot like experience, mainting the context of the conversation "
   ]
  },
  {
   "cell_type": "markdown",
   "metadata": {},
   "source": [
    "We will start by creating a `ChatHistory` object to maintain the context of the conversation. This object will be used to store the conversation history, namely the system prompts, user inputs and the assistant responses.\n",
    "\n",
    "The `ChatHistory` object will be initialized with the system prompt.`"
   ]
  },
  {
   "cell_type": "code",
   "execution_count": 10,
   "metadata": {
    "dotnet_interactive": {
     "language": "csharp"
    },
    "polyglot_notebook": {
     "kernelName": "csharp"
    },
    "vscode": {
     "languageId": "polyglot-notebook"
    }
   },
   "outputs": [],
   "source": [
    "var chatHistory = new ChatHistory(\"You are an historian, expert in the Seven Wonders of the Ancient World. Be concise and informative.\");"
   ]
  },
  {
   "cell_type": "markdown",
   "metadata": {},
   "source": [
    "The `MessageOutputAsync` method will allow us to print the latest message from the chat history."
   ]
  },
  {
   "cell_type": "code",
   "execution_count": 11,
   "metadata": {
    "dotnet_interactive": {
     "language": "csharp"
    },
    "polyglot_notebook": {
     "kernelName": "csharp"
    },
    "vscode": {
     "languageId": "polyglot-notebook"
    }
   },
   "outputs": [
    {
     "name": "stdout",
     "output_type": "stream",
     "text": [
      "system: You are an historian, expert in the Seven Wonders of the Ancient World. Be concise and informative.\n",
      "------------------------\n"
     ]
    }
   ],
   "source": [
    "await Utils.MessageOutputAsync(chatHistory);"
   ]
  },
  {
   "cell_type": "markdown",
   "metadata": {},
   "source": [
    "To interact with the chatbot, we will require the `ChatCompletionService`. This will be used to interact with the Large Language Model to generate responses to the user inputs.\n",
    "\n",
    "After adding the user input to the chat history, we will use the `ChatCompletionService` to generate a response. This response will be added to the chat history and printed to the user."
   ]
  },
  {
   "cell_type": "code",
   "execution_count": 12,
   "metadata": {
    "dotnet_interactive": {
     "language": "csharp"
    },
    "polyglot_notebook": {
     "kernelName": "csharp"
    },
    "vscode": {
     "languageId": "polyglot-notebook"
    }
   },
   "outputs": [
    {
     "name": "stdout",
     "output_type": "stream",
     "text": [
      "user: Hi, what is the Great Pyramid of Giza?\n",
      "------------------------\n",
      "assistant: The Great Pyramid of Giza is the oldest and largest of the three pyramids in the Giza pyramid complex. It was built as a tomb for the Pharaoh Khufu around 2560 BC and is the only one of the Seven Wonders of the Ancient World that still exists today. It was originally 146.6 meters tall, but erosion and the loss of its outer casing have reduced its height to 138.8 meters. The Great Pyramid is an iconic symbol of ancient Egyptian civilization and is a marvel of engineering and construction.\n",
      "------------------------\n"
     ]
    }
   ],
   "source": [
    "var chatCompletionService = kernel.GetRequiredService<IChatCompletionService>();\n",
    "\n",
    "var executionSettings = new OpenAIPromptExecutionSettings\n",
    "{\n",
    "    MaxTokens = 500,\n",
    "    Temperature = 0.2,\n",
    "    TopP = 0.5\n",
    "};\n",
    "\n",
    "chatHistory.AddUserMessage(\"Hi, what is the Great Pyramid of Giza?\");\n",
    "await Utils.MessageOutputAsync(chatHistory);\n",
    "\n",
    "var reply = await chatCompletionService.GetChatMessageContentAsync(\n",
    "        chatHistory,\n",
    "        executionSettings: executionSettings,\n",
    "        kernel: kernel);\n",
    "\n",
    "chatHistory.Add(reply);\n",
    "await Utils.MessageOutputAsync(chatHistory);"
   ]
  },
  {
   "cell_type": "markdown",
   "metadata": {},
   "source": [
    "Let's add the new message to chat history. You will see that the chat model will use the context of the conversation to generate a response.\n",
    "\n",
    "Take note that chat history counts towards your token usage, so be mindful of the number of messages you send. Strategies such as counting the number of tokens and truncating the history to only include the last few messages can be used to manage token usage."
   ]
  },
  {
   "cell_type": "code",
   "execution_count": 13,
   "metadata": {
    "dotnet_interactive": {
     "language": "csharp"
    },
    "polyglot_notebook": {
     "kernelName": "csharp"
    },
    "vscode": {
     "languageId": "polyglot-notebook"
    }
   },
   "outputs": [
    {
     "name": "stdout",
     "output_type": "stream",
     "text": [
      "user: And do you know who built it?\n",
      "------------------------\n",
      "assistant: The Great Pyramid of Giza was built during the Fourth Dynasty of the Old Kingdom of Egypt, commissioned by the Pharaoh Khufu. The exact methods and techniques used to construct the pyramid are still a subject of debate among historians and archaeologists, but it is believed that a large workforce of skilled laborers and craftsmen, along with innovative engineering and organizational skills, were employed to build this monumental structure.\n",
      "------------------------\n"
     ]
    }
   ],
   "source": [
    "chatHistory.AddUserMessage(\"And do you know who built it?\");\n",
    "await Utils.MessageOutputAsync(chatHistory);\n",
    "\n",
    "var reply = await chatCompletionService.GetChatMessageContentAsync(\n",
    "        chatHistory,\n",
    "        executionSettings: executionSettings,\n",
    "        kernel: kernel);\n",
    "\n",
    "chatHistory.Add(reply);\n",
    "await Utils.MessageOutputAsync(chatHistory);"
   ]
  },
  {
   "cell_type": "markdown",
   "metadata": {},
   "source": [
    "You can experiment interacting with the chatbot by adding more messages to the chat history and observing the responses."
   ]
  },
  {
   "cell_type": "code",
   "execution_count": 14,
   "metadata": {
    "dotnet_interactive": {
     "language": "csharp"
    },
    "polyglot_notebook": {
     "kernelName": "csharp"
    },
    "vscode": {
     "languageId": "polyglot-notebook"
    }
   },
   "outputs": [
    {
     "name": "stdout",
     "output_type": "stream",
     "text": [
      "user: Where is Egypt?\n",
      "------------------------\n",
      "assistant: Egypt is a country located in the northeastern corner of Africa, with its capital city being Cairo. It is bordered by the Mediterranean Sea to the north, Sudan to the south, Libya to the west, and the Red Sea to the east. The famous Nile River runs through the country, and Egypt is known for its rich history, ancient civilization, and iconic landmarks such as the Great Pyramid of Giza and the Sphinx.\n",
      "------------------------\n",
      "user: When was it formed?\n",
      "------------------------\n",
      "assistant: The ancient civilization of Egypt, often referred to as one of the world's oldest continuous civilizations, emerged around 3100 BC when King Menes (also known as Narmer) unified Upper and Lower Egypt, establishing the first dynasty and the beginning of the Old Kingdom. This unification marked the formation of a centralized state and the start of a long and influential history that has left a lasting impact on the world.\n",
      "------------------------\n"
     ]
    },
    {
     "ename": "Error",
     "evalue": "Input request cancelled",
     "output_type": "error",
     "traceback": [
      "Input request cancelled"
     ]
    }
   ],
   "source": [
    "do\n",
    "{\n",
    "    try\n",
    "    {\n",
    "        var ask = await InteractiveKernel.GetInputAsync(\"Ask a question to the assistant: \");\n",
    "        chatHistory.AddUserMessage(ask);\n",
    "        await Utils.MessageOutputAsync(chatHistory);\n",
    "\n",
    "        var reply = await chatCompletionService.GetChatMessageContentAsync(\n",
    "                chatHistory,\n",
    "                executionSettings: executionSettings,\n",
    "                kernel: kernel);\n",
    "\n",
    "        chatHistory.Add(reply);\n",
    "        await Utils.MessageOutputAsync(chatHistory);\n",
    "    }\n",
    "    catch (Exception)\n",
    "    {\n",
    "        // break the loop if the user cancels the input\n",
    "        break;\n",
    "    }\n",
    "} while (true);\n"
   ]
  },
  {
   "cell_type": "markdown",
   "metadata": {},
   "source": [
    "### Task 3: Use your own data to chat with the model\n",
    "\n",
    "In some scenarions, you may want the model to respond with specific information based on your own data. For example, you may have internal documentation about an appliance, and the model should respond with information that is specific to that appliance, not from the general knowledge it has been trained on.\n",
    "\n",
    "This approach is called *Retrieval Augmented Generation* (RAG). In this approach, the model first retrieves relevant information from a knowledge source, and then generates a response based on the retrieved information."
   ]
  },
  {
   "cell_type": "code",
   "execution_count": 15,
   "metadata": {
    "dotnet_interactive": {
     "language": "csharp"
    },
    "polyglot_notebook": {
     "kernelName": "csharp"
    },
    "vscode": {
     "languageId": "polyglot-notebook"
    }
   },
   "outputs": [
    {
     "ename": "Error",
     "evalue": "(1,25): error CS0246: The type or namespace name 'KernelMemoryBuilder' could not be found (are you missing a using directive or an assembly reference?)\n(3,58): error CS0246: The type or namespace name 'AzureOpenAIConfig' could not be found (are you missing a using directive or an assembly reference?)\n(5,12): error CS0103: The name 'AzureOpenAIConfig' does not exist in the current context\n(7,15): error CS0103: The name 'AzureOpenAIConfig' does not exist in the current context\n(12,49): error CS0246: The type or namespace name 'AzureOpenAIConfig' could not be found (are you missing a using directive or an assembly reference?)\n(14,12): error CS0103: The name 'AzureOpenAIConfig' does not exist in the current context\n(16,15): error CS0103: The name 'AzureOpenAIConfig' does not exist in the current context",
     "output_type": "error",
     "traceback": [
      "(1,25): error CS0246: The type or namespace name 'KernelMemoryBuilder' could not be found (are you missing a using directive or an assembly reference?)\n",
      "(3,58): error CS0246: The type or namespace name 'AzureOpenAIConfig' could not be found (are you missing a using directive or an assembly reference?)\n",
      "(5,12): error CS0103: The name 'AzureOpenAIConfig' does not exist in the current context\n",
      "(7,15): error CS0103: The name 'AzureOpenAIConfig' does not exist in the current context\n",
      "(12,49): error CS0246: The type or namespace name 'AzureOpenAIConfig' could not be found (are you missing a using directive or an assembly reference?)\n",
      "(14,12): error CS0103: The name 'AzureOpenAIConfig' does not exist in the current context\n",
      "(16,15): error CS0103: The name 'AzureOpenAIConfig' does not exist in the current context"
     ]
    }
   ],
   "source": [
    "var memorybuilder = new KernelMemoryBuilder();\n",
    "\n",
    "memorybuilder.WithAzureOpenAITextEmbeddingGeneration(new AzureOpenAIConfig()\n",
    "{\n",
    "    Auth = AzureOpenAIConfig.AuthTypes.APIKey,\n",
    "    APIKey = apiKey,\n",
    "    APIType = AzureOpenAIConfig.APITypes.EmbeddingGeneration,\n",
    "    Endpoint = azureEndpoint,\n",
    "    Deployment = \"Text-embedding-ada-002\"\n",
    "});\n",
    "\n",
    "memorybuilder.WithAzureOpenAITextGeneration(new AzureOpenAIConfig()\n",
    "{\n",
    "    Auth = AzureOpenAIConfig.AuthTypes.APIKey,\n",
    "    APIKey = apiKey,\n",
    "    APIType = AzureOpenAIConfig.APITypes.ChatCompletion,\n",
    "    Endpoint = azureEndpoint,\n",
    "    Deployment = model\n",
    "});\n",
    "\n",
    "var memory = memorybuilder.Build();\n"
   ]
  },
  {
   "cell_type": "markdown",
   "metadata": {},
   "source": [
    "Let's start by importing a document about Germany Labour Law using the *Semantic Memory* library."
   ]
  },
  {
   "cell_type": "code",
   "execution_count": 29,
   "metadata": {
    "dotnet_interactive": {
     "language": "csharp"
    },
    "polyglot_notebook": {
     "kernelName": "csharp"
    },
    "vscode": {
     "languageId": "polyglot-notebook"
    }
   },
   "outputs": [],
   "source": [
    "\n",
    "await memory.ImportWebPageAsync(\n",
    "    \"https://web.archive.org/web/20231219085537/https://www.ilo.org/ifpdial/information-resources/national-labour-law-profiles/WCMS_158899/lang--en/index.htm\");\n"
   ]
  },
  {
   "cell_type": "markdown",
   "metadata": {},
   "source": [
    "After that, we can import the *Semantic Memory* library and use it to add the document to the knowledge base. We will do it via the `MemoryPlugin` class."
   ]
  },
  {
   "cell_type": "code",
   "execution_count": 30,
   "metadata": {
    "dotnet_interactive": {
     "language": "csharp"
    },
    "polyglot_notebook": {
     "kernelName": "csharp"
    },
    "vscode": {
     "languageId": "polyglot-notebook"
    }
   },
   "outputs": [],
   "source": [
    "using Microsoft.KernelMemory;\n",
    "\n",
    "var memoryPlugin = kernel.ImportPluginFromObject(new MemoryPlugin(memory));"
   ]
  },
  {
   "cell_type": "markdown",
   "metadata": {},
   "source": [
    "Let's create a prompt representig the Retrieval Augmented Generation (RAG) approach. The prompt will have an input variable that will represent the user question and will have a function call to the `MemoryPlugin` to retrieve the relevant information from the knowledge base, using the `ask` function."
   ]
  },
  {
   "cell_type": "code",
   "execution_count": 31,
   "metadata": {
    "dotnet_interactive": {
     "language": "csharp"
    },
    "polyglot_notebook": {
     "kernelName": "csharp"
    },
    "vscode": {
     "languageId": "polyglot-notebook"
    }
   },
   "outputs": [],
   "source": [
    "var skPrompt = \"\"\"\n",
    "Question to Memory: {{$input}}\n",
    "\n",
    "Answer from Memory: {{MemoryPlugin.Ask $input}}\n",
    "\n",
    "If the answer is empty say 'I don't know' otherwise reply with a preview of the answer,\n",
    "truncated to 15 words. Prefix with one emoji relevant to the content.\n",
    "\"\"\";\n",
    "\n",
    "var ragFunction = kernel.CreateFunctionFromPrompt(skPrompt);"
   ]
  },
  {
   "cell_type": "markdown",
   "metadata": {},
   "source": [
    "And we're ready to use the RAG approach to chat with the model. Let's ask a question about Germany Labour Law and see how the model responds."
   ]
  },
  {
   "cell_type": "code",
   "execution_count": 34,
   "metadata": {
    "dotnet_interactive": {
     "language": "csharp"
    },
    "polyglot_notebook": {
     "kernelName": "csharp"
    },
    "vscode": {
     "languageId": "polyglot-notebook"
    }
   },
   "outputs": [
    {
     "name": "stdout",
     "output_type": "stream",
     "text": [
      "🏝 In Germany, the statutory minimum leave entitlement is 24 days per calendar year, not counting...\n"
     ]
    }
   ],
   "source": [
    "var answer = await ragFunction.InvokeAsync(kernel, \"How many vacations days do I get in Germany?\");\n",
    "\n",
    "Console.WriteLine(answer);"
   ]
  },
  {
   "cell_type": "markdown",
   "metadata": {},
   "source": [
    "And to test the case when the model does not have the information, let's ask a question about Portugal Labour Law."
   ]
  },
  {
   "cell_type": "code",
   "execution_count": 33,
   "metadata": {
    "dotnet_interactive": {
     "language": "csharp"
    },
    "polyglot_notebook": {
     "kernelName": "csharp"
    },
    "vscode": {
     "languageId": "polyglot-notebook"
    }
   },
   "outputs": [
    {
     "name": "stdout",
     "output_type": "stream",
     "text": [
      "🌴 I don't know\n"
     ]
    }
   ],
   "source": [
    "var answer = await ragFunction.InvokeAsync(kernel, \"How many vacations days do I get in Portugal?\");\n",
    "\n",
    "Console.WriteLine(answer);"
   ]
  },
  {
   "cell_type": "markdown",
   "metadata": {},
   "source": [
    "You successfully completed challenge 4! 🚀🚀🚀\n",
    "\n",
    " **[Home](../../Readme.md)**"
   ]
  }
 ],
 "metadata": {
  "kernelspec": {
   "display_name": ".NET (C#)",
   "language": "C#",
   "name": ".net-csharp"
  },
  "language_info": {
   "name": "python"
  },
  "polyglot_notebook": {
   "kernelInfo": {
    "defaultKernelName": "csharp",
    "items": [
     {
      "aliases": [],
      "name": "csharp"
     }
    ]
   }
  }
 },
 "nbformat": 4,
 "nbformat_minor": 2
}
