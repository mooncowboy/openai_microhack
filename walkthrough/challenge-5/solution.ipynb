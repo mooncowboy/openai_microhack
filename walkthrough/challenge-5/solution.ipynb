{
 "cells": [
  {
   "cell_type": "markdown",
   "metadata": {},
   "source": [
    "# Walkthrough Challenge 5 - Multi-Agent Chatroom\n",
    "\n",
    "Duration: 30 minutes\n",
    "\n",
    "## Overview\n",
    "- In this challenge, you will be introduced to the concept of agents and multi-agent collaboration.\n",
    "- You will create a multi-agent chatroom where agents can communicate with each other, to solve a common task.\n",
    "\n",
    "## Prerequisites\n",
    "\n",
    "- Please ensure that you have completed the [Setup](../setup/setup.ipynb) before starting this challenge."
   ]
  },
  {
   "cell_type": "markdown",
   "metadata": {},
   "source": [
    "### Task 1: Configure and Initialize Semantic Kernel\n",
    "\n",
    "⚠️ Note: You should have already completed all tasks on the [Setup](../setup/setup.ipynb). If you have not, please go back and complete it now.\n",
    "\n",
    "#### Step 1: Load Semantic Kernel settings\n",
    "\n",
    "In this step, we will load the Semantic Kernel settings that we created in the [Setup](../setup/setup.ipynb) notebook."
   ]
  },
  {
   "cell_type": "code",
   "execution_count": 4,
   "metadata": {
    "dotnet_interactive": {
     "language": "csharp"
    },
    "polyglot_notebook": {
     "kernelName": "csharp"
    },
    "vscode": {
     "languageId": "polyglot-notebook"
    }
   },
   "outputs": [
    {
     "data": {
      "text/html": [
       "<div><div></div><div></div><div><strong>Installed Packages</strong><ul><li><span>Microsoft.SemanticKernel, 1.13.0</span></li><li><span>Microsoft.SemanticKernel.Agents.Abstractions, 1.13.0-alpha</span></li><li><span>Microsoft.SemanticKernel.Agents.Core, 1.13.0-alpha</span></li></ul></div></div>"
      ]
     },
     "metadata": {},
     "output_type": "display_data"
    }
   ],
   "source": [
    "#r \"nuget: Microsoft.SemanticKernel, 1.13.0\"\n",
    "#r \"nuget: Microsoft.SemanticKernel.Agents.Abstractions, 1.13.0-alpha\"\n",
    "#r \"nuget: Microsoft.SemanticKernel.Agents.Core, 1.13.0-alpha\"\n",
    "\n",
    "#!import ../setup/config/Settings.cs\n",
    "#!import ../setup/config/Utils.cs"
   ]
  },
  {
   "cell_type": "markdown",
   "metadata": {},
   "source": [
    "#### Step 2: Initialize Semantic Kernel"
   ]
  },
  {
   "cell_type": "code",
   "execution_count": 5,
   "metadata": {
    "dotnet_interactive": {
     "language": "csharp"
    },
    "polyglot_notebook": {
     "kernelName": "csharp"
    },
    "vscode": {
     "languageId": "polyglot-notebook"
    }
   },
   "outputs": [],
   "source": [
    "using Microsoft.SemanticKernel;\n",
    "using Microsoft.SemanticKernel.TextToImage;\n",
    "using Microsoft.SemanticKernel.Embeddings;\n",
    "using Microsoft.SemanticKernel.ChatCompletion;\n",
    "using Microsoft.SemanticKernel.Connectors.OpenAI;\n",
    "using Microsoft.SemanticKernel.Agents;\n",
    "using Microsoft.SemanticKernel.Agents.OpenAI;\n",
    "using Microsoft.SemanticKernel.Agents.Chat;\n",
    "using System.Threading;\n",
    "using System.Threading.Tasks;\n",
    "using System.Collections.Generic;\n",
    "using Kernel = Microsoft.SemanticKernel.Kernel;\n",
    "using Microsoft.DotNet.Interactive;\n",
    "using InteractiveKernel = Microsoft.DotNet.Interactive.Kernel;\n",
    "\n",
    "var builder = Kernel.CreateBuilder();\n",
    "\n",
    "// Configure AI service credentials used by the kernel\n",
    "var (useAzureOpenAI, model, azureEndpoint, apiKey, orgId) = Settings.LoadFromFile(\"../setup/config/settings.json\");\n",
    "\n",
    "if (useAzureOpenAI)\n",
    "    builder.AddAzureOpenAIChatCompletion(model, azureEndpoint, apiKey);\n",
    "else\n",
    "    builder.AddOpenAIChatCompletion(model, apiKey, orgId);\n",
    "\n",
    "var kernel = builder.Build();"
   ]
  },
  {
   "cell_type": "markdown",
   "metadata": {},
   "source": [
    "## Task 2: Build the agent personas\n",
    "\n",
    "In this task, we will define the personas of the agents involved in the multi-agent chatroom. Each agent has a specific role and responsibilities in the chatroom. The personas help us understand the perspective and expertise of each agent.\n",
    "\n",
    "Agent personas are defined to establish clear roles and responsibilities within the multi-agent chatroom, enabling effective collaboration and problem-solving.\n",
    "\n",
    "We will define the following agent personas: Product Owner, Technical Lead, UX Designer, QA Analyst and Business Analyst."
   ]
  },
  {
   "cell_type": "code",
   "execution_count": 6,
   "metadata": {
    "dotnet_interactive": {
     "language": "csharp"
    },
    "polyglot_notebook": {
     "kernelName": "csharp"
    },
    "vscode": {
     "languageId": "polyglot-notebook"
    }
   },
   "outputs": [],
   "source": [
    "private const string ProductOwnerName = \"ProductOwner\";\n",
    "private const string ProductOwnerInstructions =\n",
    "    \"\"\"\n",
    "    You are a Product Owner responsible for ensuring the acceptance criteria align with the product vision and meet the stakeholders' requirements.\n",
    "    Your goal is to initiate and validate acceptance criteria that clearly define the conditions for a user story to be considered complete.\n",
    "    Consider feedback from the Technical Lead, UX Designer, and QA Analyst.\n",
    "    Make the final decision on whether the acceptance criteria are ready and comprehensive.\n",
    "    Provide feedback if the acceptance criteria are incomplete or unclear, suggesting improvements where necessary.\n",
    "    If satisfactory, state that the acceptance criteria are approved. If they are approved, also provide the last version of the acceptance criteria.\n",
    "    Be concise and to the point.\n",
    "    \"\"\";\n",
    "\n",
    "private const string TechnicalLeadName = \"TechnicalLead\";\n",
    "private const string TechnicalLeadInstructions =\n",
    "    \"\"\"\n",
    "    You are a Technical Lead with expertise in assessing the technical feasibility and implementation details of acceptance criteria.\n",
    "    Your goal is to review the acceptance criteria for technical completeness, potential challenges, and feasibility within the current architecture.\n",
    "    Provide feedback on potential technical risks or areas needing clarification, and suggest any improvements to the acceptance criteria.\n",
    "    Be concise and to the point.\n",
    "    Only provide a single proposal per response.\n",
    "    \"\"\";\n",
    "\n",
    "private const string UXDesignerName = \"UXDesigner\";\n",
    "private const string UXDesignerInstructions =\n",
    "    \"\"\"\n",
    "    You are a UX Designer focused on ensuring that the acceptance criteria support a positive user experience and adhere to design principles.\n",
    "    Your goal is to review the acceptance criteria to ensure they account for user interaction, usability, and accessibility.\n",
    "    Provide feedback on how the acceptance criteria can be improved to enhance the user experience.\n",
    "    Be concise and to the point.\n",
    "    Only provide a single proposal per response.\n",
    "    \"\"\";\n",
    "\n",
    "private const string QAAnalystName = \"QAAnalyst\";\n",
    "private const string QAAnalystInstructions =\n",
    "    \"\"\"\n",
    "    You are a QA Analyst responsible for ensuring that the acceptance criteria are clear, detailed, and testable.\n",
    "    Your goal is to review the acceptance criteria to ensure they are clear, concise, and include specific details that can be used for testing.\n",
    "    Provide feedback on any missing or unclear acceptance criteria and suggest improvements to make them more testable.\n",
    "    Be concise and to the point.\n",
    "    Only provide a single proposal per response.\n",
    "    \"\"\";\n",
    "\n",
    "private const string BusinessAnalystName = \"BusinessAnalyst\";\n",
    "private const string BusinessAnalystInstructions =\n",
    "    \"\"\"\n",
    "    You are a Business Analyst responsible for writing clear, concise, and complete acceptance criteria based on the user story.\n",
    "    Your goal is to draft acceptance criteria that accurately capture the user needs, business value, and testable conditions.\n",
    "    Consider feedback and suggestions from the Product Owner, Technical Lead, UX Designer, and QA Analyst to refine and improve the acceptance criteria.\n",
    "    Ensure the acceptance criteria are well-structured and ready for development.\n",
    "    Be concise and to the point.\n",
    "    \"\"\";"
   ]
  },
  {
   "cell_type": "markdown",
   "metadata": {},
   "source": [
    "## Task 3: Spawn agents with their different roles\n",
    "\n",
    "To facilitate multi-agent collaboration, we will spawn multiple agents in the chatroom. Each agent will have a specific role and responsibilities. Here are the agents involved:\n",
    "\n",
    "1. **Product Owner**\n",
    "    - Name: ProductOwner\n",
    "    - Instructions: Ensure acceptance criteria align with the product vision and stakeholder requirements.\n",
    "\n",
    "2. **Technical Lead**\n",
    "    - Name: TechnicalLead\n",
    "    - Instructions: Assess technical feasibility and provide feedback on implementation details.\n",
    "\n",
    "3. **UX Designer**\n",
    "    - Name: UXDesigner\n",
    "    - Instructions: Review acceptance criteria for user experience and design principles.\n",
    "\n",
    "4. **QA Analyst**\n",
    "    - Name: QAAnalyst\n",
    "    - Instructions: Ensure acceptance criteria are clear, detailed, and testable.\n",
    "\n",
    "5. **Business Analyst**\n",
    "    - Name: BusinessAnalyst\n",
    "    - Instructions: Write clear, concise, and complete acceptance criteria based on user needs.\n",
    "\n",
    "By spawning these agents in the chatroom, we can leverage their expertise and collaborate effectively to solve the given task.\n",
    "```"
   ]
  },
  {
   "cell_type": "code",
   "execution_count": 7,
   "metadata": {
    "dotnet_interactive": {
     "language": "csharp"
    },
    "polyglot_notebook": {
     "kernelName": "csharp"
    },
    "vscode": {
     "languageId": "polyglot-notebook"
    }
   },
   "outputs": [],
   "source": [
    "#pragma warning disable SKEXP0110\n",
    "\n",
    "Microsoft.SemanticKernel.Agents.ChatCompletionAgent agentProductOwner =\n",
    "    new()\n",
    "    {\n",
    "        Instructions = ProductOwnerInstructions,\n",
    "        Name = ProductOwnerName,\n",
    "        Kernel = kernel,\n",
    "    };\n",
    "\n",
    "Microsoft.SemanticKernel.Agents.ChatCompletionAgent agentTechnicalLead =\n",
    "    new()\n",
    "    {\n",
    "        Instructions = TechnicalLeadInstructions,\n",
    "        Name = TechnicalLeadName,\n",
    "        Kernel = kernel,\n",
    "    };\n",
    "\n",
    "Microsoft.SemanticKernel.Agents.ChatCompletionAgent agentUXDesigner =\n",
    "    new()\n",
    "    {\n",
    "        Instructions = UXDesignerInstructions,\n",
    "        Name = UXDesignerName,\n",
    "        Kernel = kernel,\n",
    "    };\n",
    "\n",
    "Microsoft.SemanticKernel.Agents.ChatCompletionAgent agentQAAnalyst =\n",
    "    new()\n",
    "    {\n",
    "        Instructions = QAAnalystInstructions,\n",
    "        Name = QAAnalystName,\n",
    "        Kernel = kernel,\n",
    "    };\n",
    "\n",
    "Microsoft.SemanticKernel.Agents.ChatCompletionAgent agentBusinessAnalyst =\n",
    "    new()\n",
    "    {\n",
    "        Instructions = BusinessAnalystInstructions,\n",
    "        Name = BusinessAnalystName,\n",
    "        Kernel = kernel,\n",
    "    };"
   ]
  },
  {
   "cell_type": "markdown",
   "metadata": {},
   "source": [
    "## Task 4: Create a termination condition\n",
    "\n",
    "In our solution, we need to establish a termination condition for our process. This is a condition that, when met, will stop the process from continuing. In our case, we want the process to stop when the copy has been approved.\n",
    "\n",
    "To do this, we use a KernelFunction object. This object is created using the KernelFunctionFactory.CreateFromPrompt method, which takes a string prompt as an argument. The prompt is a set of instructions that the KernelFunction will follow."
   ]
  },
  {
   "cell_type": "code",
   "execution_count": 8,
   "metadata": {
    "dotnet_interactive": {
     "language": "csharp"
    },
    "polyglot_notebook": {
     "kernelName": "csharp"
    },
    "vscode": {
     "languageId": "polyglot-notebook"
    }
   },
   "outputs": [],
   "source": [
    "KernelFunction terminationFunction =\n",
    "    KernelFunctionFactory.CreateFromPrompt(\n",
    "        \"\"\"\n",
    "        Determine if the copy has been approved.  If so, respond with a single word: yes\n",
    "\n",
    "        History:\n",
    "        {{$history}}\n",
    "        \"\"\");"
   ]
  },
  {
   "cell_type": "markdown",
   "metadata": {},
   "source": [
    "## Task 5: Glue it all together and run the group chat\n",
    "\n",
    "We will bring together all the components we have built so far. We will create a group chat environment where multiple agents can interact with each other, share information, and collaborate to solve a common task.\n",
    "\n",
    "In the end, with the help of the agents, we will be able to create a set of acceptance criteria for a given user story. The agents will collaborate, share their expertise, and work together to achieve the best possible acceptance criteria, based on the user story and acceptance criteria provided by the user."
   ]
  },
  {
   "cell_type": "code",
   "execution_count": 12,
   "metadata": {
    "dotnet_interactive": {
     "language": "csharp"
    },
    "polyglot_notebook": {
     "kernelName": "csharp"
    },
    "vscode": {
     "languageId": "polyglot-notebook"
    }
   },
   "outputs": [
    {
     "name": "stdout",
     "output_type": "stream",
     "text": [
      "# user: '**User Story**:\n",
      "As a regular user, I want to securely log into my account using my username and password, so that I can access personalized features and maintain my privacy.'\n",
      "# assistant - BusinessAnalyst: '**Acceptance Criteria**:\n",
      "1. **User Interface Display**:\n",
      "   - The login page should display fields for entering a username and password.\n",
      "   - The login page must include a \"Submit\" button to initiate the login process.\n",
      "\n",
      "2. **Input Validation**:\n",
      "   - The system should validate that both the username and password fields are not empty before submission.\n",
      "   - If either field is empty upon submission attempt, the system should display an error message \"Both username and password are required.\"\n",
      "   - The password field should mask input characters for security.\n",
      "\n",
      "3. **Authentication Process**:\n",
      "   - Upon submission, the system should verify the username and password against stored credentials.\n",
      "   - If the credentials are incorrect, the system should display an error message \"Invalid username or password. Please try again.\"\n",
      "   - After three consecutive failed login attempts, the account should be temporarily locked for a duration of 15 minutes, displaying the message \"Your account has been locked due to multiple failed login attempts. Please try again in 15 minutes.\"\n",
      "\n",
      "4. **Session Handling**:\n",
      "   - Upon successful login, a session must be initiated and maintained to keep the user logged in.\n",
      "   - The session should expire after 30 minutes of inactivity, requiring the user to log in again.\n",
      "\n",
      "5. **Security Measures**:\n",
      "   - All password data stored in the database must be encrypted.\n",
      "   - The login form should be protected against SQL injection and other common security vulnerabilities.\n",
      "\n",
      "6. **Redirection After Login**:\n",
      "   - After successful authentication, users should be redirected to their personalized dashboard page.\n",
      "   \n",
      "7. **Accessibility**:\n",
      "   - The username and password fields, as well as the \"Submit\" button, should be accessible via keyboard shortcuts and should be compatible with screen readers for visually impaired users.\n",
      "\n",
      "8. **Responsive Design**:\n",
      "   - The login page should be responsive and render appropriately on desktops, tablets, and smartphones.\n",
      "\n",
      "9. **Performance**:\n",
      "   - The login process should be executed within 5 seconds under normal conditions, barring any network or system-related delays. \n",
      "\n",
      "These criteria ensure the login functionality is secure, user-friendly, and accessible while promoting a good user experience.'\n",
      "# assistant - TechnicalLead: '**Feedback on Acceptance Criteria**:\n",
      "\n",
      "The acceptance criteria listed largely cover necessary functionalities and security for the login process. However, the feasibility of implementing session handling in relation to user inactivity requires more details:\n",
      "\n",
      "- **Session Tracking Method**: The criteria specify that the session should expire after 30 minutes of inactivity, but there is no mention of how user activity or inactivity will be detected and managed. Determining session inactivity can be complex depending on whether the client-side (web browser) or server-side tracking is used.\n",
      "\n",
      "**Suggestion**:\n",
      "- Define whether the activity tracking will be implemented via client-side scripting (like JavaScript event listening for user interactions) or through server-side checks (for instance, with each server request considering the last activity timestamp). Ensure that this chosen method aligns with current architectural capabilities and privacy requirements. Adding details on the preferred session tracking method will help in evaluating the implementation feasibility and security implications, especially concerning privacy and compliance with regulations such as GDPR.'\n",
      "# assistant - UXDesigner: '**Feedback on Acceptance Criteria**:\n",
      "\n",
      "The acceptance criteria incorporate basic accessibility features for visually impaired users, but additional elements can further enhance accessibility across different impairments:\n",
      "\n",
      "**Suggestion**:\n",
      "- Expand the accessibility criteria to include proper use of ARIA (Accessible Rich Internet Applications) landmarks, roles, and properties to ensure the login form is fully accessible for users with assistive technologies. This will help provide better context to screen readers and other assistive devices, making the entire form more navigable and understandable for users with varying disabilities.'\n",
      "# assistant - QAAnalyst: '**Feedback on Acceptance Criteria:**\n",
      "\n",
      "One of the acceptance criteria mentioned is for the login form to be protected against SQL injection and other common security vulnerabilities. However, this is too broad and needs to be more specific to be testable.\n",
      "\n",
      "**Suggestion:**\n",
      "- Specify types of common security vulnerabilities to be addressed beyond SQL injection. Include items such as XSS (Cross-Site Scripting), CSRF (Cross-Site Request Forgery), and others relevant to the application. Additionally, define tools or methods to be used for testing these vulnerabilities, such as using automated security scanning tools or conducting manual penetration testing. This will help in creating clear and testable criteria.'\n"
     ]
    },
    {
     "ename": "Error",
     "evalue": "Command cancelled.",
     "output_type": "error",
     "traceback": [
      "Command cancelled."
     ]
    }
   ],
   "source": [
    "#pragma warning disable SKEXP0110, SKEXP0001\n",
    "\n",
    "var chat =\n",
    "    new AgentGroupChat(agentBusinessAnalyst, agentTechnicalLead, agentUXDesigner, agentQAAnalyst, agentProductOwner)\n",
    "    {\n",
    "        ExecutionSettings =\n",
    "            new()\n",
    "            {\n",
    "                // Here a TerminationStrategy subclass is used that will terminate when\n",
    "                // an assistant message contains the term \"approved\".\n",
    "                TerminationStrategy =\n",
    "                    new KernelFunctionTerminationStrategy(terminationFunction, kernel)\n",
    "                    {\n",
    "                        // Only the Product Owner may approve.\n",
    "                        Agents = [agentProductOwner],\n",
    "                        // Customer result parser to determine if the response is \"yes\"\n",
    "                        ResultParser = (result) => result.GetValue<string>()?.Contains(\"yes\", StringComparison.OrdinalIgnoreCase) ?? false,\n",
    "                        // The prompt variable name for the history argument.\n",
    "                        HistoryVariableName = \"history\",\n",
    "                        // Limit total number of turns\n",
    "                        MaximumIterations = 10\n",
    "                    }\n",
    "            }\n",
    "    };\n",
    "\n",
    "// Invoke chat and display messages.\n",
    "string input =\n",
    "\"\"\"\n",
    "**User Story**:\n",
    "As a regular user, I want to securely log into my account using my username and password, so that I can access personalized features and maintain my privacy.\n",
    "\n",
    "**Acceptance Criteria**:\n",
    "1. Users can click a \"Login\" button on the homepage which directs them to the login page.\n",
    "2. Users enter their username and password in the provided fields.\n",
    "3. A 'Login' button submits the credentials, which should be encrypted during transmission.\n",
    "4. Users are redirected to their personalized dashboard upon successful authentication.\n",
    "5. An error message, \"Incorrect username or password. Please try again,\" appears for invalid credentials.\n",
    "6. After three consecutive failed login attempts, the account is locked for 15 minutes to prevent unauthorized access.\n",
    "7. A 'Forgot Password?' link is available that directs users to a secure password reset page.\n",
    "8. The login process (from clicking 'Login' to reaching the dashboard) is achieved within 5 seconds under standard conditions.\n",
    "\"\"\";\n",
    "\n",
    "chat.AddChatMessage(new ChatMessageContent(AuthorRole.User, input));\n",
    "Console.WriteLine($\"# {AuthorRole.User}: '{input}'\");\n",
    "\n",
    "await foreach (var content in chat.InvokeAsync())\n",
    "{\n",
    "    Console.WriteLine($\"# {content.Role} - {content.AuthorName ?? \"*\"}: '{content.Content}'\");\n",
    "}\n",
    "\n",
    "Console.WriteLine($\"# IS COMPLETE: {chat.IsComplete}\");"
   ]
  },
  {
   "cell_type": "markdown",
   "metadata": {},
   "source": [
    "You successfully completed challenge 5! 🚀🚀🚀\n",
    "\n",
    " **[Home](../../Readme.md)**"
   ]
  }
 ],
 "metadata": {
  "kernelspec": {
   "display_name": ".NET (C#)",
   "language": "C#",
   "name": ".net-csharp"
  },
  "language_info": {
   "name": "python"
  },
  "polyglot_notebook": {
   "kernelInfo": {
    "defaultKernelName": "csharp",
    "items": [
     {
      "aliases": [],
      "name": "csharp"
     }
    ]
   }
  }
 },
 "nbformat": 4,
 "nbformat_minor": 2
}
