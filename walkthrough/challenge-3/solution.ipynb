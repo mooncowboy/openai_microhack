{
 "cells": [
  {
   "cell_type": "markdown",
   "metadata": {},
   "source": [
    "# Walkthrough Challenge 3 - Chat with structured data using Plugins and Planners\n",
    "\n",
    "Duration: 45 minutes\n",
    "\n",
    "## Overview\n",
    "- In this challenge, you will learn how to create a Plugin and invoke it from the kernel.\n",
    "- You will also learn how to use a Planner to execute an automated sequence of steps, ultimately creating a chatbot that can interact with structured data.\n",
    "\n",
    "## Prerequisites\n",
    "\n",
    "- Please ensure that you have completed the [Setup](../setup/setup.ipynb) before starting this challenge."
   ]
  },
  {
   "cell_type": "markdown",
   "metadata": {},
   "source": [
    "### Task 1: Configure and Initialize Semantic Kernel\n",
    "\n",
    "⚠️ Note: You should have already completed all tasks on the [Setup](../setup/setup.ipynb). If you have not, please go back and complete it now.\n",
    "\n",
    "#### Step 1: Load Semantic Kernel settings\n",
    "\n",
    "In this step, we will load the Semantic Kernel settings that we created in the [Setup](../setup/setup.ipynb) notebook."
   ]
  },
  {
   "cell_type": "code",
   "execution_count": null,
   "metadata": {
    "dotnet_interactive": {
     "language": "csharp"
    },
    "polyglot_notebook": {
     "kernelName": "csharp"
    },
    "vscode": {
     "languageId": "polyglot-notebook"
    }
   },
   "outputs": [],
   "source": [
    "#r \"nuget: Microsoft.SemanticKernel, 1.13.0\"\n",
    "#r \"nuget: Microsoft.SemanticKernel.Planners.Handlebars, 1.13.0-preview\"\n",
    "#r \"nuget: Microsoft.SemanticKernel.Planners.OpenAI, 1.13.0-preview\"\n",
    "#r \"nuget: System.Data.SQLite, 1.0.118\"\n",
    "#r \"nuget: Dapper, 2.1.24\"\n",
    "#r \"nuget:Microsoft.ML.DataView\"\n",
    "#r \"nuget:Microsoft.Data.Analysis\"\n",
    "\n",
    "#!import ../setup/config/Settings.cs\n",
    "#!import ../setup/config/Utils.cs\n",
    "#!import plugins/SqlPlugin/SqlPlugin.cs"
   ]
  },
  {
   "cell_type": "markdown",
   "metadata": {},
   "source": [
    "#### Step 2: Initialize Semantic Kernel"
   ]
  },
  {
   "cell_type": "code",
   "execution_count": null,
   "metadata": {
    "dotnet_interactive": {
     "language": "csharp"
    },
    "polyglot_notebook": {
     "kernelName": "csharp"
    },
    "vscode": {
     "languageId": "polyglot-notebook"
    }
   },
   "outputs": [],
   "source": [
    "using Microsoft.SemanticKernel;\n",
    "using Microsoft.SemanticKernel.Connectors.OpenAI;\n",
    "using Microsoft.SemanticKernel.TemplateEngine;\n",
    "using Kernel = Microsoft.SemanticKernel.Kernel;\n",
    "using Microsoft.DotNet.Interactive;\n",
    "using InteractiveKernel = Microsoft.DotNet.Interactive.Kernel;\n",
    "using Microsoft.Data.Analysis;\n",
    "using Microsoft.ML;\n",
    "\n",
    "var builder = Kernel.CreateBuilder();\n",
    "\n",
    "// Configure AI service credentials used by the kernel\n",
    "var (useAzureOpenAI, model, azureEndpoint, apiKey, orgId) = Settings.LoadFromFile(\"../setup/config/settings.json\");\n",
    "\n",
    "if (useAzureOpenAI)\n",
    "    builder.AddAzureOpenAIChatCompletion(model, azureEndpoint, apiKey);\n",
    "else\n",
    "    builder.AddOpenAIChatCompletion(model, apiKey, orgId);\n",
    "\n",
    "var kernel = builder.Build();"
   ]
  },
  {
   "cell_type": "markdown",
   "metadata": {},
   "source": [
    "### Task 2: Create and initialize the `SqlPlugin` class"
   ]
  },
  {
   "cell_type": "markdown",
   "metadata": {},
   "source": [
    "Let's introduce you to Semantic Kernel Plugins, which one of the fundamental building blocks of Semantic Kernel. Plugins are used to encapsulate capabalities into a single unit of functionality that can be run by the kernel. Plugins can either consist of native code or requests to an LLM using a prompt.\n",
    "\n",
    "Take a look at the following Semantic Kernel documentantion about Plugins: [What is a plugin?](https://learn.microsoft.com/en-us/semantic-kernel/agents/plugins/?tabs=Csharp#what-is-a-plugin)"
   ]
  },
  {
   "cell_type": "markdown",
   "metadata": {},
   "source": [
    "In this example, we are going to create a new Semantic Kernel plugin that will allow us to execute SQL queries against a SQLite database. We will use the Dapper library to execute the queries and return the results as a table.\n",
    "\n",
    "You can find the plugin code in the [`SqlPlugin.cs`](./plugins/SqlPlugin/SqlPlugin.cs) file. This plugin is a simple example of how to create a plugin that can execute SQL queries against an actual relational database.\n",
    "\n",
    "Note that it has three functions: `GetTables`, `GetSchema` and `RunQuery`.\n",
    "\n",
    "- `GetTables` function returns a list of tables in the database.\n",
    "- `GetSchema` function returns the schema of a table.\n",
    "- `RunQuery` function executes a SQL query and returns the results as a csv string.\n",
    "\n",
    "Each function is decorated with the `KernelFunction` attribute, which tells the kernel that this method is a native function and will automatically register it with the kernel when the plugin is loaded.\n",
    "\n",
    "Notice how we've added a description to the function and each of its parameters with the `Description` attribute. This description will be used by function calling and by planners to automatically create a plan using these functions. More on this later."
   ]
  },
  {
   "cell_type": "markdown",
   "metadata": {},
   "source": [
    "### Task 3: Load the `SqlPlugin` and invoke its functions"
   ]
  },
  {
   "cell_type": "markdown",
   "metadata": {},
   "source": [
    "We have seen how to create a plugin, now let's see how to load it into the kernel. We will use the `ImportPluginFromObject` method to load the plugin into the kernel."
   ]
  },
  {
   "cell_type": "code",
   "execution_count": null,
   "metadata": {
    "dotnet_interactive": {
     "language": "csharp"
    },
    "polyglot_notebook": {
     "kernelName": "csharp"
    },
    "vscode": {
     "languageId": "polyglot-notebook"
    }
   },
   "outputs": [],
   "source": [
    "kernel.ImportPluginFromObject(new SqlPlugin());"
   ]
  },
  {
   "cell_type": "markdown",
   "metadata": {},
   "source": [
    "Let's invoke a function from the plugin to see how it works. We will use the `GetTables` function to get a list of tables in the database.\n",
    "\n",
    "It will make an actual query to the [northwind.db](./northwind.db) database, which is a SQLite database that contains the Northwind sample database."
   ]
  },
  {
   "cell_type": "code",
   "execution_count": null,
   "metadata": {
    "dotnet_interactive": {
     "language": "csharp"
    },
    "polyglot_notebook": {
     "kernelName": "csharp"
    },
    "vscode": {
     "languageId": "polyglot-notebook"
    }
   },
   "outputs": [],
   "source": [
    "var getTablesFunction = kernel.Plugins[\"SqlPlugin\"][\"GetTables\"];\n",
    "\n",
    "var getTablesResult = await kernel.InvokeAsync(getTablesFunction, new() {});\n",
    "DataFrame tables = DataFrame.LoadCsvFromString(getTablesResult.ToString());\n",
    "\n",
    "tables.Display();"
   ]
  },
  {
   "cell_type": "markdown",
   "metadata": {},
   "source": [
    "As you can see, the `GetTables` function was able to return a list of tables in the database. This is a simple example of how to create a plugin and load it into the kernel.\n",
    "\n",
    "Let's invoke the `GetSchema` function, which will return the schema of the `Orders` table."
   ]
  },
  {
   "cell_type": "code",
   "execution_count": null,
   "metadata": {
    "dotnet_interactive": {
     "language": "csharp"
    },
    "polyglot_notebook": {
     "kernelName": "csharp"
    },
    "vscode": {
     "languageId": "polyglot-notebook"
    }
   },
   "outputs": [],
   "source": [
    "var getSchemaFunction = kernel.Plugins[\"SqlPlugin\"][\"GetSchema\"];\n",
    "\n",
    "var getSchemaResult = await kernel.InvokeAsync(getSchemaFunction, new() { { \"tableName\", \"Orders\" } });\n",
    "DataFrame categoriesColumns = DataFrame.LoadCsvFromString(getSchemaResult.ToString());\n",
    "\n",
    "categoriesColumns.Display();"
   ]
  },
  {
   "cell_type": "markdown",
   "metadata": {},
   "source": [
    "### Task 4: Create a plan to execute a SQL query\n",
    "\n",
    "Now that we have a plugin that can execute SQL queries, let's see how we can create a plan to execute a SQL query based on a natural language question.\n",
    "So far, we have seen how to create a plugin and load it into the kernel. We have also seen how to invoke a function from the plugin to get a list of tables in the database.\n",
    "\n",
    "We will use a planner that will take a natural language question and create a plan to execute a SQL query based on that question. you can see more about Semantic Kernel Planners in here: [Automatically orchestrate AI with planners](https://learn.microsoft.com/en-us/semantic-kernel/agents/planners/?tabs=Csharp).\n",
    "\n",
    "Behind the scenes, planner uses an LLM prompt to generate a plan. The plan is then executed by the kernel, which will call the appropriate plugin function to achieve the desired response."
   ]
  },
  {
   "cell_type": "code",
   "execution_count": null,
   "metadata": {
    "dotnet_interactive": {
     "language": "csharp"
    },
    "polyglot_notebook": {
     "kernelName": "csharp"
    },
    "vscode": {
     "languageId": "polyglot-notebook"
    }
   },
   "outputs": [],
   "source": [
    "using Microsoft.SemanticKernel.Planning.Handlebars;\n",
    "using Microsoft.SemanticKernel.Planning;\n",
    "\n",
    "#pragma warning disable SKEXP0061\n",
    "#pragma warning disable SKEXP0060\n",
    "\n",
    "\n",
    "var config = new FunctionCallingStepwisePlannerOptions\n",
    "{\n",
    "    MaxIterations = 15,\n",
    "    MaxTokens = 8000,\n",
    "};\n",
    "var planner = new FunctionCallingStepwisePlanner();\n"
   ]
  },
  {
   "cell_type": "markdown",
   "metadata": {},
   "source": [
    "We are going to use the `FunctionCallingStepwisePlanner` class to create a plan to execute a SQL query based on a natural language question.\n",
    "\n",
    "The planner will use the `SqlPlugin` and its functions to create a plan to execute a SQL query based on a natural language question."
   ]
  },
  {
   "cell_type": "code",
   "execution_count": null,
   "metadata": {
    "dotnet_interactive": {
     "language": "csharp"
    },
    "polyglot_notebook": {
     "kernelName": "csharp"
    },
    "vscode": {
     "languageId": "polyglot-notebook"
    }
   },
   "outputs": [],
   "source": [
    "#pragma warning disable SKEXP0061\n",
    "#pragma warning disable SKEXP0060\n",
    "\n",
    "var ask = \"What are the top 10 most sold products?\";\n",
    "var result = await planner.ExecuteAsync(kernel, ask);\n",
    "\n",
    "Console.WriteLine(\"\\nResult:\");\n",
    "Console.WriteLine(result.FinalAnswer);"
   ]
  },
  {
   "cell_type": "markdown",
   "metadata": {},
   "source": [
    "You successfully completed challenge 3! 🚀🚀🚀\n",
    "\n",
    " **[Home](../../Readme.md)** - [Next Challenge Solution](../challenge-4/solution.ipynb)"
   ]
  }
 ],
 "metadata": {
  "kernelspec": {
   "display_name": ".NET (C#)",
   "language": "C#",
   "name": ".net-csharp"
  },
  "language_info": {
   "name": "python"
  },
  "polyglot_notebook": {
   "kernelInfo": {
    "defaultKernelName": "csharp",
    "items": [
     {
      "aliases": [],
      "name": "csharp"
     }
    ]
   }
  }
 },
 "nbformat": 4,
 "nbformat_minor": 2
}
