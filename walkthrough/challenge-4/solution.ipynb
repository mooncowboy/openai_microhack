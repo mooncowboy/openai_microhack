{
 "cells": [
  {
   "cell_type": "markdown",
   "metadata": {},
   "source": [
    "# Walkthrough Challenge 4 - Chat with your own data\n",
    "\n",
    "Duration: 30 minutes\n",
    "\n",
    "## Overview\n",
    "- In this challenge, you will learn on how to use the `Chat` api to keep history of the conversation within a chatbot.\n",
    "- You will also learn to implement the *Retrieval Augmented Generation* (RAG) architecture to chat with your own data.\n",
    "\n",
    "## Prerequisites\n",
    "\n",
    "- Please ensure that you have completed the [Setup](../setup/setup.ipynb) before starting this challenge."
   ]
  },
  {
   "cell_type": "markdown",
   "metadata": {},
   "source": [
    "### Task 1: Configure and Initialize Semantic Kernel\n",
    "\n",
    "⚠️ Note: You should have already completed all tasks on the [Setup](../setup/setup.ipynb). If you have not, please go back and complete it now.\n",
    "\n",
    "#### Step 1: Load Semantic Kernel settings\n",
    "\n",
    "In this step, we will load the Semantic Kernel settings that we created in the [Setup](../setup/setup.ipynb) notebook."
   ]
  },
  {
   "cell_type": "code",
   "execution_count": 1,
   "metadata": {
    "dotnet_interactive": {
     "language": "csharp"
    },
    "polyglot_notebook": {
     "kernelName": "csharp"
    },
    "vscode": {
     "languageId": "polyglot-notebook"
    }
   },
   "outputs": [
    {
     "data": {
      "text/html": [
       "<div><div></div><div></div><div><strong>Installed Packages</strong><ul><li><span>Microsoft.KernelMemory.Core, 0.26.240121.1</span></li><li><span>Microsoft.KernelMemory.SemanticKernelPlugin, 0.26.240121.1</span></li><li><span>Microsoft.SemanticKernel, 1.0.1</span></li><li><span>Microsoft.SemanticKernel.Connectors.Sqlite, 1.13.0-alpha</span></li><li><span>Microsoft.SemanticKernel.Planners.Handlebars, 1.13.0-preview</span></li><li><span>Microsoft.SemanticKernel.Planners.OpenAI, 1.13.0-preview</span></li><li><span>Microsoft.SemanticKernel.Plugins.Memory, 1.13.0-alpha</span></li></ul></div></div>"
      ]
     },
     "metadata": {},
     "output_type": "display_data"
    }
   ],
   "source": [
    "#r \"nuget: Microsoft.SemanticKernel, 1.0.1\"\n",
    "#r \"nuget: Microsoft.SemanticKernel.Planners.Handlebars, 1.13.0-preview\"\n",
    "#r \"nuget: Microsoft.SemanticKernel.Planners.OpenAI, 1.13.0-preview\"\n",
    "#r \"nuget: Microsoft.SemanticKernel.Plugins.Memory, 1.13.0-alpha\"\n",
    "#r \"nuget: Microsoft.SemanticKernel.Connectors.Sqlite, 1.13.0-alpha\"\n",
    "#r \"nuget: Microsoft.KernelMemory.Core, 0.61.240524.1\"\n",
    "#r \"nuget: Microsoft.KernelMemory.SemanticKernelPlugin, 0.61.240524.1\"\n",
    "\n",
    "#!import ../setup/config/Settings.cs\n",
    "#!import ../setup/config/Utils.cs"
   ]
  },
  {
   "cell_type": "markdown",
   "metadata": {},
   "source": [
    "#### Step 2: Initialize Semantic Kernel"
   ]
  },
  {
   "cell_type": "code",
   "execution_count": 2,
   "metadata": {
    "dotnet_interactive": {
     "language": "csharp"
    },
    "polyglot_notebook": {
     "kernelName": "csharp"
    },
    "vscode": {
     "languageId": "polyglot-notebook"
    }
   },
   "outputs": [],
   "source": [
    "using Microsoft.SemanticKernel;\n",
    "using Microsoft.SemanticKernel.Connectors.OpenAI;\n",
    "using Microsoft.SemanticKernel.TemplateEngine;\n",
    "using Microsoft.SemanticKernel.ChatCompletion;\n",
    "using Microsoft.SemanticKernel.Connectors.Sqlite;\n",
    "using Microsoft.SemanticKernel.Memory;\n",
    "using Microsoft.SemanticKernel.Plugins.Memory;\n",
    "using Microsoft.KernelMemory;\n",
    "using Kernel = Microsoft.SemanticKernel.Kernel;\n",
    "using Microsoft.DotNet.Interactive;\n",
    "using InteractiveKernel = Microsoft.DotNet.Interactive.Kernel;\n",
    "\n",
    "var builder = Kernel.CreateBuilder();\n",
    "\n",
    "// Configure AI service credentials used by the kernel\n",
    "var (useAzureOpenAI, model, azureEndpoint, apiKey, orgId) = Settings.LoadFromFile(\"../setup/config/settings.json\");\n",
    "\n",
    "if (useAzureOpenAI)\n",
    "    builder.AddAzureOpenAIChatCompletion(model, azureEndpoint, apiKey);\n",
    "else\n",
    "    builder.AddOpenAIChatCompletion(model, apiKey, orgId);\n",
    "\n",
    "var kernel = builder.Build();"
   ]
  },
  {
   "cell_type": "markdown",
   "metadata": {},
   "source": [
    "### Task 2: Create a chatbot like experience, mainting the context of the conversation "
   ]
  },
  {
   "cell_type": "markdown",
   "metadata": {},
   "source": [
    "We will start by creating a `ChatHistory` object to maintain the context of the conversation. This object will be used to store the conversation history, namely the system prompts, user inputs and the assistant responses.\n",
    "\n",
    "The `ChatHistory` object will be initialized with the system prompt.`"
   ]
  },
  {
   "cell_type": "code",
   "execution_count": 3,
   "metadata": {
    "dotnet_interactive": {
     "language": "csharp"
    },
    "polyglot_notebook": {
     "kernelName": "csharp"
    },
    "vscode": {
     "languageId": "polyglot-notebook"
    }
   },
   "outputs": [],
   "source": [
    "var chatHistory = new ChatHistory(\"You are an historian, expert in the Seven Wonders of the Ancient World. Be concise and informative.\");"
   ]
  },
  {
   "cell_type": "markdown",
   "metadata": {},
   "source": [
    "The `MessageOutputAsync` method will allow us to print the latest message from the chat history."
   ]
  },
  {
   "cell_type": "code",
   "execution_count": 4,
   "metadata": {
    "dotnet_interactive": {
     "language": "csharp"
    },
    "polyglot_notebook": {
     "kernelName": "csharp"
    },
    "vscode": {
     "languageId": "polyglot-notebook"
    }
   },
   "outputs": [
    {
     "name": "stdout",
     "output_type": "stream",
     "text": [
      "system: You are an historian, expert in the Seven Wonders of the Ancient World. Be concise and informative.\n",
      "------------------------\n"
     ]
    }
   ],
   "source": [
    "await Utils.MessageOutputAsync(chatHistory);"
   ]
  },
  {
   "cell_type": "markdown",
   "metadata": {},
   "source": [
    "To interact with the chatbot, we will require the `ChatCompletionService`. This will be used to interact with the Large Language Model to generate responses to the user inputs.\n",
    "\n",
    "After adding the user input to the chat history, we will use the `ChatCompletionService` to generate a response. This response will be added to the chat history and printed to the user."
   ]
  },
  {
   "cell_type": "code",
   "execution_count": 5,
   "metadata": {
    "dotnet_interactive": {
     "language": "csharp"
    },
    "polyglot_notebook": {
     "kernelName": "csharp"
    },
    "vscode": {
     "languageId": "polyglot-notebook"
    }
   },
   "outputs": [
    {
     "name": "stdout",
     "output_type": "stream",
     "text": [
      "user: Hi, what is the Great Pyramid of Giza?\n",
      "------------------------\n",
      "assistant: The Great Pyramid of Giza, located in Egypt, is the oldest and only surviving monument of the Seven Wonders of the Ancient World. It was constructed around 2580–2560 BC during the reign of Pharaoh Khufu (also known as Cheops). Originally standing at 146.6 meters (481 feet), it was the tallest man-made structure in the world for over 3,800 years. The pyramid served as a tomb and was built using millions of limestone blocks, with some weighing several tons. It is part of a larger complex that includes two other major pyramids, smaller pyramids, temples, and the Great Sphinx.\n",
      "------------------------\n"
     ]
    }
   ],
   "source": [
    "var chatCompletionService = kernel.GetRequiredService<IChatCompletionService>();\n",
    "\n",
    "var executionSettings = new OpenAIPromptExecutionSettings\n",
    "{\n",
    "    MaxTokens = 500,\n",
    "    Temperature = 0.2,\n",
    "    TopP = 0.5\n",
    "};\n",
    "\n",
    "chatHistory.AddUserMessage(\"Hi, what is the Great Pyramid of Giza?\");\n",
    "await Utils.MessageOutputAsync(chatHistory);\n",
    "\n",
    "var reply = await chatCompletionService.GetChatMessageContentAsync(\n",
    "        chatHistory,\n",
    "        executionSettings: executionSettings,\n",
    "        kernel: kernel);\n",
    "\n",
    "chatHistory.Add(reply);\n",
    "await Utils.MessageOutputAsync(chatHistory);"
   ]
  },
  {
   "cell_type": "markdown",
   "metadata": {},
   "source": [
    "Let's add the new message to chat history. You will see that the chat model will use the context of the conversation to generate a response.\n",
    "\n",
    "Take note that chat history counts towards your token usage, so be mindful of the number of messages you send. Strategies such as counting the number of tokens and truncating the history to only include the last few messages can be used to manage token usage."
   ]
  },
  {
   "cell_type": "code",
   "execution_count": 6,
   "metadata": {
    "dotnet_interactive": {
     "language": "csharp"
    },
    "polyglot_notebook": {
     "kernelName": "csharp"
    },
    "vscode": {
     "languageId": "polyglot-notebook"
    }
   },
   "outputs": [
    {
     "name": "stdout",
     "output_type": "stream",
     "text": [
      "user: And do you know who built it?\n",
      "------------------------\n",
      "assistant: The Great Pyramid of Giza was commissioned by Pharaoh Khufu of the Fourth Dynasty of ancient Egypt. While Khufu ordered its construction, the pyramid itself was built by a large workforce that likely included thousands of skilled laborers, including stone cutters, engineers, and architects, as well as a large number of general laborers. These workers may have been conscripted or paid laborers, and they worked in a highly organized manner. The architect often credited with its design is Hemiunu, who was possibly a relative of Khufu and held the title of Vizier, making him one of the highest officials in the kingdom at that time.\n",
      "------------------------\n"
     ]
    }
   ],
   "source": [
    "chatHistory.AddUserMessage(\"And do you know who built it?\");\n",
    "await Utils.MessageOutputAsync(chatHistory);\n",
    "\n",
    "var reply = await chatCompletionService.GetChatMessageContentAsync(\n",
    "        chatHistory,\n",
    "        executionSettings: executionSettings,\n",
    "        kernel: kernel);\n",
    "\n",
    "chatHistory.Add(reply);\n",
    "await Utils.MessageOutputAsync(chatHistory);"
   ]
  },
  {
   "cell_type": "markdown",
   "metadata": {},
   "source": [
    "You can experiment interacting with the chatbot by adding more messages to the chat history and observing the responses."
   ]
  },
  {
   "cell_type": "code",
   "execution_count": 7,
   "metadata": {
    "dotnet_interactive": {
     "language": "csharp"
    },
    "polyglot_notebook": {
     "kernelName": "csharp"
    },
    "vscode": {
     "languageId": "polyglot-notebook"
    }
   },
   "outputs": [
    {
     "name": "stdout",
     "output_type": "stream",
     "text": [
      "user: heeey\n",
      "------------------------\n",
      "assistant: Hello! How can I assist you further with information on the Seven Wonders of the Ancient World or any other historical topics?\n",
      "------------------------\n"
     ]
    },
    {
     "ename": "Error",
     "evalue": "Input request cancelled",
     "output_type": "error",
     "traceback": [
      "Input request cancelled"
     ]
    }
   ],
   "source": [
    "do\n",
    "{\n",
    "    try\n",
    "    {\n",
    "        var ask = await InteractiveKernel.GetInputAsync(\"Ask a question to the assistant: \");\n",
    "        chatHistory.AddUserMessage(ask);\n",
    "        await Utils.MessageOutputAsync(chatHistory);\n",
    "\n",
    "        var reply = await chatCompletionService.GetChatMessageContentAsync(\n",
    "                chatHistory,\n",
    "                executionSettings: executionSettings,\n",
    "                kernel: kernel);\n",
    "\n",
    "        chatHistory.Add(reply);\n",
    "        await Utils.MessageOutputAsync(chatHistory);\n",
    "    }\n",
    "    catch (Exception)\n",
    "    {\n",
    "        // break the loop if the user cancels the input\n",
    "        break;\n",
    "    }\n",
    "} while (true);\n"
   ]
  },
  {
   "cell_type": "markdown",
   "metadata": {},
   "source": [
    "### Task 3: Use your own data to chat with the model\n",
    "\n",
    "In some scenarions, you may want the model to respond with specific information based on your own data. For example, you may have internal documentation about an appliance, and the model should respond with information that is specific to that appliance, not from the general knowledge it has been trained on.\n",
    "\n",
    "This approach is called *Retrieval Augmented Generation* (RAG). In this approach, the model first retrieves relevant information from a knowledge source, and then generates a response based on the retrieved information."
   ]
  },
  {
   "cell_type": "code",
   "execution_count": 9,
   "metadata": {
    "dotnet_interactive": {
     "language": "csharp"
    },
    "polyglot_notebook": {
     "kernelName": "csharp"
    },
    "vscode": {
     "languageId": "polyglot-notebook"
    }
   },
   "outputs": [
    {
     "ename": "Error",
     "evalue": "System.MissingMethodException: Method not found: 'Void Microsoft.SemanticKernel.Connectors.OpenAI.AzureOpenAITextEmbeddingGenerationService..ctor(System.String, System.String, Azure.Core.TokenCredential, System.String, System.Net.Http.HttpClient, Microsoft.Extensions.Logging.ILoggerFactory)'.\n   at Microsoft.KernelMemory.AI.AzureOpenAI.AzureOpenAITextEmbeddingGenerator..ctor(AzureOpenAIConfig config, ITextTokenizer textTokenizer, ILogger`1 log, HttpClient httpClient)\n   at Microsoft.KernelMemory.AI.AzureOpenAI.AzureOpenAITextEmbeddingGenerator..ctor(AzureOpenAIConfig config, ITextTokenizer textTokenizer, ILoggerFactory loggerFactory, HttpClient httpClient)\n   at Microsoft.KernelMemory.KernelMemoryBuilderExtensions.WithAzureOpenAITextEmbeddingGeneration(IKernelMemoryBuilder builder, AzureOpenAIConfig config, ITextTokenizer textTokenizer, ILoggerFactory loggerFactory, Boolean onlyForRetrieval, HttpClient httpClient)\n   at Submission#11.<<Initialize>>d__0.MoveNext()\n--- End of stack trace from previous location ---\n   at Microsoft.CodeAnalysis.Scripting.ScriptExecutionState.RunSubmissionsAsync[TResult](ImmutableArray`1 precedingExecutors, Func`2 currentExecutor, StrongBox`1 exceptionHolderOpt, Func`2 catchExceptionOpt, CancellationToken cancellationToken)",
     "output_type": "error",
     "traceback": [
      "System.MissingMethodException: Method not found: 'Void Microsoft.SemanticKernel.Connectors.OpenAI.AzureOpenAITextEmbeddingGenerationService..ctor(System.String, System.String, Azure.Core.TokenCredential, System.String, System.Net.Http.HttpClient, Microsoft.Extensions.Logging.ILoggerFactory)'.\n",
      "   at Microsoft.KernelMemory.AI.AzureOpenAI.AzureOpenAITextEmbeddingGenerator..ctor(AzureOpenAIConfig config, ITextTokenizer textTokenizer, ILogger`1 log, HttpClient httpClient)\n",
      "   at Microsoft.KernelMemory.AI.AzureOpenAI.AzureOpenAITextEmbeddingGenerator..ctor(AzureOpenAIConfig config, ITextTokenizer textTokenizer, ILoggerFactory loggerFactory, HttpClient httpClient)\n",
      "   at Microsoft.KernelMemory.KernelMemoryBuilderExtensions.WithAzureOpenAITextEmbeddingGeneration(IKernelMemoryBuilder builder, AzureOpenAIConfig config, ITextTokenizer textTokenizer, ILoggerFactory loggerFactory, Boolean onlyForRetrieval, HttpClient httpClient)\n",
      "   at Submission#11.<<Initialize>>d__0.MoveNext()\n",
      "--- End of stack trace from previous location ---\n",
      "   at Microsoft.CodeAnalysis.Scripting.ScriptExecutionState.RunSubmissionsAsync[TResult](ImmutableArray`1 precedingExecutors, Func`2 currentExecutor, StrongBox`1 exceptionHolderOpt, Func`2 catchExceptionOpt, CancellationToken cancellationToken)"
     ]
    }
   ],
   "source": [
    "var memorybuilder = new KernelMemoryBuilder();\n",
    "\n",
    "memorybuilder.WithAzureOpenAITextEmbeddingGeneration(new AzureOpenAIConfig()\n",
    "{\n",
    "    Auth = AzureOpenAIConfig.AuthTypes.APIKey,\n",
    "    APIKey = apiKey,\n",
    "    APIType = AzureOpenAIConfig.APITypes.EmbeddingGeneration,\n",
    "    Endpoint = azureEndpoint,\n",
    "    Deployment = \"Text-embedding-ada-002\"\n",
    "});\n",
    "\n",
    "memorybuilder.WithAzureOpenAITextGeneration(new AzureOpenAIConfig()\n",
    "{\n",
    "    Auth = AzureOpenAIConfig.AuthTypes.APIKey,\n",
    "    APIKey = apiKey,\n",
    "    APIType = AzureOpenAIConfig.APITypes.ChatCompletion,\n",
    "    Endpoint = azureEndpoint,\n",
    "    Deployment = model\n",
    "});\n",
    "\n",
    "var memory = memorybuilder.Build();\n"
   ]
  },
  {
   "cell_type": "markdown",
   "metadata": {},
   "source": [
    "Let's start by importing a document about Germany Labour Law using the *Semantic Memory* library."
   ]
  },
  {
   "cell_type": "code",
   "execution_count": 51,
   "metadata": {
    "dotnet_interactive": {
     "language": "csharp"
    },
    "polyglot_notebook": {
     "kernelName": "csharp"
    },
    "vscode": {
     "languageId": "polyglot-notebook"
    }
   },
   "outputs": [],
   "source": [
    "\n",
    "await memory.ImportWebPageAsync(\n",
    "    \"https://www.ilo.org/ifpdial/information-resources/national-labour-law-profiles/WCMS_158899/lang--en/index.htm\");\n"
   ]
  },
  {
   "cell_type": "markdown",
   "metadata": {},
   "source": [
    "After that, we can import the *Semantic Memory* library and use it to add the document to the knowledge base. We will do it via the `MemoryPlugin` class."
   ]
  },
  {
   "cell_type": "code",
   "execution_count": 52,
   "metadata": {
    "dotnet_interactive": {
     "language": "csharp"
    },
    "polyglot_notebook": {
     "kernelName": "csharp"
    },
    "vscode": {
     "languageId": "polyglot-notebook"
    }
   },
   "outputs": [],
   "source": [
    "using Microsoft.KernelMemory;\n",
    "\n",
    "var memoryPlugin = kernel.ImportPluginFromObject(new MemoryPlugin(memory));"
   ]
  },
  {
   "cell_type": "markdown",
   "metadata": {},
   "source": [
    "Let's create a prompt representig the Retrieval Augmented Generation (RAG) approach. The prompt will have an input variable that will represent the user question and will have a function call to the `MemoryPlugin` to retrieve the relevant information from the knowledge base, using the `ask` function."
   ]
  },
  {
   "cell_type": "code",
   "execution_count": 53,
   "metadata": {
    "dotnet_interactive": {
     "language": "csharp"
    },
    "polyglot_notebook": {
     "kernelName": "csharp"
    },
    "vscode": {
     "languageId": "polyglot-notebook"
    }
   },
   "outputs": [],
   "source": [
    "var skPrompt = \"\"\"\n",
    "Question to Memory: {{$input}}\n",
    "\n",
    "Answer from Memory: {{MemoryPlugin.Ask $input}}\n",
    "\n",
    "If the answer is empty say 'I don't know' otherwise reply with a preview of the answer,\n",
    "truncated to 15 words. Prefix with one emoji relevant to the content.\n",
    "\"\"\";\n",
    "\n",
    "var ragFunction = kernel.CreateFunctionFromPrompt(skPrompt);"
   ]
  },
  {
   "cell_type": "markdown",
   "metadata": {},
   "source": [
    "And we're ready to use the RAG approach to chat with the model. Let's ask a question about Germany Labour Law and see how the model responds."
   ]
  },
  {
   "cell_type": "code",
   "execution_count": 54,
   "metadata": {
    "dotnet_interactive": {
     "language": "csharp"
    },
    "polyglot_notebook": {
     "kernelName": "csharp"
    },
    "vscode": {
     "languageId": "polyglot-notebook"
    }
   },
   "outputs": [
    {
     "name": "stdout",
     "output_type": "stream",
     "text": [
      "🏖️ In Germany, the statutory minimum leave entitlement is 24 days per calendar year, not counting Sundays...\n"
     ]
    }
   ],
   "source": [
    "var answer = await ragFunction.InvokeAsync(kernel, \"How many vacations days do I get in Germany?\");\n",
    "\n",
    "Console.WriteLine(answer);"
   ]
  },
  {
   "cell_type": "markdown",
   "metadata": {},
   "source": [
    "And to test the case when the model does not have the information, let's ask a question about Portugal Labour Law."
   ]
  },
  {
   "cell_type": "code",
   "execution_count": 55,
   "metadata": {
    "dotnet_interactive": {
     "language": "csharp"
    },
    "polyglot_notebook": {
     "kernelName": "csharp"
    },
    "vscode": {
     "languageId": "polyglot-notebook"
    }
   },
   "outputs": [
    {
     "name": "stdout",
     "output_type": "stream",
     "text": [
      "🏖️ In Portugal, the minimum vacation entitlement is 22 working days per year for a full-time...\n"
     ]
    }
   ],
   "source": [
    "var answer = await ragFunction.InvokeAsync(kernel, \"How many vacations days do I get in Portugal?\");\n",
    "\n",
    "Console.WriteLine(answer);"
   ]
  },
  {
   "cell_type": "markdown",
   "metadata": {},
   "source": [
    "You successfully completed challenge 4! 🚀🚀🚀\n",
    "\n",
    " **[Home](../../Readme.md)**"
   ]
  }
 ],
 "metadata": {
  "language_info": {
   "name": "python"
  }
 },
 "nbformat": 4,
 "nbformat_minor": 2
}
