{
 "cells": [
  {
   "cell_type": "markdown",
   "metadata": {},
   "source": [
    "# Walkthrough Challenge 4 - Chat with your own data\n",
    "\n",
    "Duration: 30 minutes\n",
    "\n",
    "## Overview\n",
    "- In this challenge, you will start by configuring and initializing the kernel.\n",
    "- [TODO]\n",
    "\n",
    "## Prerequisites\n",
    "\n",
    "- Please ensure that you have completed the [Setup](../setup/setup.ipynb) before starting this challenge."
   ]
  },
  {
   "cell_type": "markdown",
   "metadata": {},
   "source": [
    "### Task 1: Configure and Initialize Semantic Kernel\n",
    "\n",
    "⚠️ Note: You should have already completed all tasks on the [Setup](../setup/setup.ipynb). If you have not, please go back and complete it now.\n",
    "\n",
    "#### Step 1: Load Semantic Kernel settings\n",
    "\n",
    "In this step, we will load the Semantic Kernel settings that we created in the [Setup](../setup/setup.ipynb) notebook."
   ]
  },
  {
   "cell_type": "code",
   "execution_count": 5,
   "metadata": {
    "dotnet_interactive": {
     "language": "csharp"
    },
    "polyglot_notebook": {
     "kernelName": "csharp"
    },
    "vscode": {
     "languageId": "polyglot-notebook"
    }
   },
   "outputs": [
    {
     "data": {
      "text/html": [
       "<div><div></div><div></div><div><strong>Installed Packages</strong><ul><li><span>Microsoft.KernelMemory.Core, 0.26.240121.1</span></li><li><span>Microsoft.KernelMemory.SemanticKernelPlugin, 0.26.240121.1</span></li><li><span>Microsoft.SemanticKernel, 1.0.1</span></li><li><span>Microsoft.SemanticKernel.Planners.Handlebars, 1.0.1-preview</span></li><li><span>Microsoft.SemanticKernel.Planners.OpenAI, 1.0.1-preview</span></li><li><span>Microsoft.SemanticKernel.Plugins.Memory, 1.0.1-alpha</span></li></ul></div></div>"
      ]
     },
     "metadata": {},
     "output_type": "display_data"
    },
    {
     "ename": "Error",
     "evalue": "(27,43): error CS0246: The type or namespace name 'ChatHistory' could not be found (are you missing a using directive or an assembly reference?)",
     "output_type": "error",
     "traceback": [
      "(27,43): error CS0246: The type or namespace name 'ChatHistory' could not be found (are you missing a using directive or an assembly reference?)"
     ]
    }
   ],
   "source": [
    "#r \"nuget: Microsoft.SemanticKernel, 1.0.1\"\n",
    "#r \"nuget: Microsoft.SemanticKernel.Planners.Handlebars, 1.0.1-preview\"\n",
    "#r \"nuget: Microsoft.SemanticKernel.Planners.OpenAI, 1.0.1-preview\"\n",
    "#r \"nuget: Microsoft.SemanticKernel.Plugins.Memory, 1.0.1-alpha\"\n",
    "#r \"nuget: Microsoft.SemanticKernel.Connectors.Sqlite, 1.0.1-alpha\"\n",
    "#r \"nuget: Microsoft.KernelMemory.Core, 0.26.240121.1\"\n",
    "#r \"nuget: Microsoft.KernelMemory.SemanticKernelPlugin, 0.26.240121.1\"\n",
    "\n",
    "#!import ../setup/config/Settings.cs\n",
    "#!import ../setup/config/Utils.cs"
   ]
  },
  {
   "cell_type": "code",
   "execution_count": 4,
   "metadata": {
    "dotnet_interactive": {
     "language": "csharp"
    },
    "polyglot_notebook": {
     "kernelName": "csharp"
    },
    "vscode": {
     "languageId": "polyglot-notebook"
    }
   },
   "outputs": [
    {
     "ename": "Error",
     "evalue": "(27,43): error CS0246: The type or namespace name 'ChatHistory' could not be found (are you missing a using directive or an assembly reference?)",
     "output_type": "error",
     "traceback": [
      "(27,43): error CS0246: The type or namespace name 'ChatHistory' could not be found (are you missing a using directive or an assembly reference?)"
     ]
    }
   ],
   "source": []
  },
  {
   "cell_type": "markdown",
   "metadata": {},
   "source": [
    "#### Step 2: Initialize Semantic Kernel"
   ]
  },
  {
   "cell_type": "code",
   "execution_count": 72,
   "metadata": {
    "dotnet_interactive": {
     "language": "csharp"
    },
    "polyglot_notebook": {
     "kernelName": "csharp"
    },
    "vscode": {
     "languageId": "polyglot-notebook"
    }
   },
   "outputs": [],
   "source": [
    "using Microsoft.SemanticKernel;\n",
    "using Microsoft.SemanticKernel.Connectors.OpenAI;\n",
    "using Microsoft.SemanticKernel.TemplateEngine;\n",
    "using Microsoft.SemanticKernel.ChatCompletion;\n",
    "using Microsoft.SemanticKernel.Connectors.Sqlite;\n",
    "using Microsoft.SemanticKernel.Memory;\n",
    "using Microsoft.SemanticKernel.Plugins.Memory;\n",
    "using Microsoft.KernelMemory;\n",
    "using Kernel = Microsoft.SemanticKernel.Kernel;\n",
    "using Microsoft.DotNet.Interactive;\n",
    "using InteractiveKernel = Microsoft.DotNet.Interactive.Kernel;\n",
    "\n",
    "var builder = Kernel.CreateBuilder();\n",
    "\n",
    "// Configure AI service credentials used by the kernel\n",
    "var (useAzureOpenAI, model, azureEndpoint, apiKey, orgId) = Settings.LoadFromFile(\"../setup/config/settings.json\");\n",
    "\n",
    "if (useAzureOpenAI)\n",
    "    builder.AddAzureOpenAIChatCompletion(model, azureEndpoint, apiKey);\n",
    "else\n",
    "    builder.AddOpenAIChatCompletion(model, apiKey, orgId);\n",
    "\n",
    "var kernel = builder.Build();"
   ]
  },
  {
   "cell_type": "markdown",
   "metadata": {},
   "source": [
    "### Task 2: Create a chatbot like experience, mainting the context of the conversation "
   ]
  },
  {
   "cell_type": "markdown",
   "metadata": {},
   "source": [
    "We will start by creating a `ChatHistory` object to maintain the context of the conversation. This object will be used to store the conversation history, namely the system prompts, user inputs and the assistant responses.\n",
    "\n",
    "The `ChatHistory` object will be initialized with the system prompt.`"
   ]
  },
  {
   "cell_type": "code",
   "execution_count": 48,
   "metadata": {
    "dotnet_interactive": {
     "language": "csharp"
    },
    "polyglot_notebook": {
     "kernelName": "csharp"
    },
    "vscode": {
     "languageId": "polyglot-notebook"
    }
   },
   "outputs": [],
   "source": [
    "var chatHistory = new ChatHistory(\"You are an historian, expert in the Seven Wonders of the Ancient World. Be concise and informative.\");"
   ]
  },
  {
   "cell_type": "markdown",
   "metadata": {},
   "source": [
    "The `MessageOutputAsync` method will allow us to print the latest message from the chat history."
   ]
  },
  {
   "cell_type": "code",
   "execution_count": 58,
   "metadata": {
    "dotnet_interactive": {
     "language": "csharp"
    },
    "polyglot_notebook": {
     "kernelName": "csharp"
    },
    "vscode": {
     "languageId": "polyglot-notebook"
    }
   },
   "outputs": [
    {
     "name": "stdout",
     "output_type": "stream",
     "text": [
      "assistant: The Great Pyramid of Giza, also known as the Pyramid of Khufu or the Pyramid of Cheops, is the oldest and largest of the three pyramids on the Giza plateau in Egypt and the only one of the Seven Wonders of the Ancient World that still exists today. It was built as a tomb for the Fourth Dynasty Egyptian Pharaoh Khufu (Cheops in Greek) and was completed around 2560 BCE.\n",
      "\n",
      "Constructed from millions of limestone blocks, the original height of the pyramid was 146.6 meters (481 feet), but it now stands at 138.8 meters (455 feet) due to the loss of the outer casing stones. The Great Pyramid was the tallest man-made structure in the world for over 3,800 years.\n",
      "\n",
      "The precise construction techniques used to build the pyramid are still not fully understood, but the process likely involved a large workforce of thousands of laborers and skilled workers. The pyramid's complex interior includes a series of passageways leading to the main burial chamber, which houses a granite sarcophagus.\n",
      "\n",
      "The Great Pyramid is part of a larger complex that includes two other major pyramids (those of Khafre and Menkaure), the Great Sphinx, several smaller satellite pyramids, and numerous mastabas (flat-roofed, rectangular tombs). It is a testament to the engineering prowess and organizational skills of ancient Egypt and continues to be a focus of archaeological study and popular fascination.\n",
      "------------------------\n"
     ]
    }
   ],
   "source": [
    "await Utils.MessageOutputAsync(chatHistory);"
   ]
  },
  {
   "cell_type": "markdown",
   "metadata": {},
   "source": [
    "To interact with the chatbot, we will require the `ChatCompletionService`. This will be used to interact with the Large Language Model to generate responses to the user inputs.\n",
    "\n",
    "After adding the user input to the chat history, we will use the `ChatCompletionService` to generate a response. This response will be added to the chat history and printed to the user."
   ]
  },
  {
   "cell_type": "code",
   "execution_count": 59,
   "metadata": {
    "dotnet_interactive": {
     "language": "csharp"
    },
    "polyglot_notebook": {
     "kernelName": "csharp"
    },
    "vscode": {
     "languageId": "polyglot-notebook"
    }
   },
   "outputs": [
    {
     "name": "stdout",
     "output_type": "stream",
     "text": [
      "user: Hi, what is the Great Pyramid of Giza?\n",
      "------------------------\n",
      "assistant: The Great Pyramid of Giza is the oldest and most intact of the Seven Wonders of the Ancient World. It was constructed as a tomb for the Egyptian Pharaoh Khufu (also known as Cheops) and is estimated to have been completed around 2560 BCE. The pyramid is located on the Giza Plateau, near modern-day Cairo, Egypt.\n",
      "\n",
      "Originally standing at 146.6 meters (481 feet) tall, the Great Pyramid was the tallest man-made structure in the world for over 3,800 years. Although it has lost some of its height due to the absence of the outer casing stones, it still stands at approximately 138.8 meters (455 feet) today.\n",
      "\n",
      "The pyramid is built from approximately 2.3 million blocks of stone, each weighing on average 2.5 tons. Its construction is a marvel of ancient engineering, and its precise alignment with the cardinal points and the stars has intrigued scholars for centuries.\n",
      "\n",
      "The Great Pyramid consists of three main chambers: the King's Chamber, the Queen's Chamber, and an unfinished subterranean chamber. It also has a complex system of shafts and passageways. The purpose of some of these features remains a subject of debate among historians and archaeologists.\n",
      "\n",
      "As the only surviving wonder of the ancient world, the Great Pyramid continues to be a symbol of the architectural and mathematical achievements of ancient Egypt. It draws millions of visitors each year and remains an important site for archaeological research.\n",
      "------------------------\n"
     ]
    }
   ],
   "source": [
    "var chatCompletionService = kernel.GetRequiredService<IChatCompletionService>();\n",
    "\n",
    "var executionSettings = new OpenAIPromptExecutionSettings\n",
    "{\n",
    "    MaxTokens = 500,\n",
    "    Temperature = 0.2,\n",
    "    TopP = 0.5\n",
    "};\n",
    "\n",
    "chatHistory.AddUserMessage(\"Hi, what is the Great Pyramid of Giza?\");\n",
    "await MessageOutputAsync(chatHistory);\n",
    "\n",
    "var reply = await chatCompletionService.GetChatMessageContentAsync(\n",
    "        chatHistory,\n",
    "        executionSettings: executionSettings,\n",
    "        kernel: kernel);\n",
    "\n",
    "chatHistory.Add(reply);\n",
    "await MessageOutputAsync(chatHistory);"
   ]
  },
  {
   "cell_type": "markdown",
   "metadata": {},
   "source": [
    "Let's add the new message to chat history. You will see that the chat model will use the context of the conversation to generate a response.\n",
    "\n",
    "Take note that chat history counts towards your token usage, so be mindful of the number of messages you send. Strategies such as counting the number of tokens and truncating the history to only include the last few messages can be used to manage token usage."
   ]
  },
  {
   "cell_type": "code",
   "execution_count": 60,
   "metadata": {
    "dotnet_interactive": {
     "language": "csharp"
    },
    "polyglot_notebook": {
     "kernelName": "csharp"
    },
    "vscode": {
     "languageId": "polyglot-notebook"
    }
   },
   "outputs": [
    {
     "name": "stdout",
     "output_type": "stream",
     "text": [
      "user: And do you know who built it?\n",
      "------------------------\n",
      "assistant: The Great Pyramid of Giza was built under the reign of Pharaoh Khufu, also known as Cheops in Greek. He was the second pharaoh of the Fourth Dynasty of ancient Egypt's Old Kingdom. The workforce that constructed the pyramid is believed to have consisted of tens of thousands of skilled laborers, including stonecutters, masons, engineers, and other workers.\n",
      "\n",
      "Contrary to the long-standing myth that the pyramids were built by slaves, evidence suggests that the laborers were actually well-fed and housed in a nearby temporary city. They were likely organized into work gangs and worked in shifts to construct the pyramid over a period of approximately 20 years.\n",
      "\n",
      "The planning and resources required for such a massive project indicate a highly organized society with advanced knowledge of architecture, engineering, and mathematics. The laborers were probably a mix of full-time workers and seasonal conscripts who participated in the construction during the annual Nile flood when agricultural activity was impossible.\n",
      "\n",
      "The architect traditionally credited with the design of the Great Pyramid is Hemiunu, who was a relative of Khufu and held the title of \"Overseer of All Construction Projects of the King.\" Hemiunu's tomb is located near the base of the Great Pyramid, which further supports his involvement in the pyramid's construction.\n",
      "------------------------\n"
     ]
    }
   ],
   "source": [
    "chatHistory.AddUserMessage(\"And do you know who built it?\");\n",
    "await MessageOutputAsync(chatHistory);\n",
    "\n",
    "var reply = await chatCompletionService.GetChatMessageContentAsync(\n",
    "        chatHistory,\n",
    "        executionSettings: executionSettings,\n",
    "        kernel: kernel);\n",
    "\n",
    "chatHistory.Add(reply);\n",
    "await MessageOutputAsync(chatHistory);"
   ]
  },
  {
   "cell_type": "markdown",
   "metadata": {},
   "source": [
    "You can experiment interacting with the chatbot by adding more messages to the chat history and observing the responses."
   ]
  },
  {
   "cell_type": "code",
   "execution_count": 63,
   "metadata": {
    "dotnet_interactive": {
     "language": "csharp"
    },
    "polyglot_notebook": {
     "kernelName": "csharp"
    },
    "vscode": {
     "languageId": "polyglot-notebook"
    }
   },
   "outputs": [
    {
     "name": "stdout",
     "output_type": "stream",
     "text": [
      "user: who is cleopetra?\n",
      "------------------------\n",
      "assistant: Cleopatra, often referred to as Cleopatra VII, was the last active ruler of the Ptolemaic Kingdom of Egypt. She reigned from 51 BCE until her death in 30 BCE. Cleopatra was a member of the Ptolemaic dynasty, a family of Greek origin that ruled Egypt after Alexander the Great's death during the Hellenistic period. The Ptolemies, including Cleopatra, embraced Egyptian traditions, and Cleopatra herself was the first in her line to learn the Egyptian language.\n",
      "\n",
      "Cleopatra is well-known for her relationships with two prominent Roman figures: Julius Caesar and Mark Antony. Her affair with Julius Caesar helped her solidify her grip on the throne, and after Caesar's assassination, she aligned with Mark Antony, with whom she had a romantic and political alliance. This alliance led to a conflict with the future first emperor of Rome, Octavian (later known as Augustus).\n",
      "\n",
      "The conflict culminated in the naval battle of Actium in 31 BCE, where Cleopatra and Antony were defeated by Octavian's forces. Following their defeat, Cleopatra and Antony both committed suicide in 30 BCE, and Egypt fell under Roman control, marking the end of both the Ptolemaic rule and the Hellenistic era.\n",
      "\n",
      "Cleopatra is often remembered for her intelligence, political acumen, and allure, which have been immortalized in various works of art and literature throughout history.\n",
      "------------------------\n"
     ]
    },
    {
     "ename": "Error",
     "evalue": "Input request cancelled",
     "output_type": "error",
     "traceback": [
      "Input request cancelled"
     ]
    }
   ],
   "source": [
    "do\n",
    "{\n",
    "    try\n",
    "    {\n",
    "        var ask = await InteractiveKernel.GetInputAsync(\"Ask a question to the assistant: \");\n",
    "        chatHistory.AddUserMessage(ask);\n",
    "        await MessageOutputAsync(chatHistory);\n",
    "\n",
    "        var reply = await chatCompletionService.GetChatMessageContentAsync(\n",
    "                chatHistory,\n",
    "                executionSettings: executionSettings,\n",
    "                kernel: kernel);\n",
    "\n",
    "        chatHistory.Add(reply);\n",
    "        await MessageOutputAsync(chatHistory);\n",
    "    }\n",
    "    catch (Exception)\n",
    "    {\n",
    "        // break the loop if the user cancels the input\n",
    "        break;\n",
    "    }\n",
    "} while (true);\n"
   ]
  },
  {
   "cell_type": "code",
   "execution_count": 84,
   "metadata": {
    "dotnet_interactive": {
     "language": "csharp"
    },
    "polyglot_notebook": {
     "kernelName": "csharp"
    },
    "vscode": {
     "languageId": "polyglot-notebook"
    }
   },
   "outputs": [
    {
     "data": {
      "text/html": [
       "<div><div></div><div></div><div><strong>Installed Packages</strong><ul><li><span>Microsoft.KernelMemory.Core, 0.26.240121.1</span></li><li><span>Microsoft.KernelMemory.SemanticKernelPlugin, 0.26.240121.1</span></li></ul></div></div>"
      ]
     },
     "metadata": {},
     "output_type": "display_data"
    }
   ],
   "source": [
    "var memorybuilder = new KernelMemoryBuilder();\n",
    "\n",
    "memorybuilder.WithAzureOpenAITextEmbeddingGeneration(new AzureOpenAIConfig()\n",
    "{\n",
    "    Auth = AzureOpenAIConfig.AuthTypes.APIKey,\n",
    "    APIKey = apiKey,\n",
    "    APIType = AzureOpenAIConfig.APITypes.EmbeddingGeneration,\n",
    "    Endpoint = azureEndpoint,\n",
    "    Deployment = model\n",
    "});\n",
    "\n",
    "memorybuilder.WithAzureOpenAITextGeneration(new AzureOpenAIConfig()\n",
    "{\n",
    "    Auth = AzureOpenAIConfig.AuthTypes.APIKey,\n",
    "    APIKey = apiKey,\n",
    "    APIType = AzureOpenAIConfig.APITypes.ChatCompletion,\n",
    "    Endpoint = azureEndpoint,\n",
    "    Deployment = model\n",
    "});\n",
    "\n",
    "var memory = memorybuilder.Build();\n"
   ]
  },
  {
   "cell_type": "code",
   "execution_count": 78,
   "metadata": {
    "dotnet_interactive": {
     "language": "csharp"
    },
    "polyglot_notebook": {
     "kernelName": "csharp"
    },
    "vscode": {
     "languageId": "polyglot-notebook"
    }
   },
   "outputs": [],
   "source": [
    "\n",
    "await memory.ImportWebPageAsync(\n",
    "    \"https://www.ilo.org/ifpdial/information-resources/national-labour-law-profiles/WCMS_158899/lang--en/index.htm\");\n"
   ]
  },
  {
   "cell_type": "code",
   "execution_count": 80,
   "metadata": {
    "dotnet_interactive": {
     "language": "csharp"
    },
    "polyglot_notebook": {
     "kernelName": "csharp"
    },
    "vscode": {
     "languageId": "polyglot-notebook"
    }
   },
   "outputs": [
    {
     "data": {
      "text/plain": [
       "In Germany, the statutory minimum leave entitlement is 24 days per calendar year, not counting Sundays and public holidays. Saturdays are included in the calculation. However, it is common for collective agreements to grant a period of 4 up to 6 weeks of paid leave per calendar year. For employees whose employment relationships fall under collective agreements reached in 1999, 80% of West German employees and 55% of East German employees can claim paid leave of 6 weeks or more."
      ]
     },
     "metadata": {},
     "output_type": "display_data"
    }
   ],
   "source": [
    "\n",
    "var response = await memory.AskAsync(\"how many vacations days do I get in Germany?\");\n",
    "\n",
    "response.Result.Display();"
   ]
  },
  {
   "cell_type": "code",
   "execution_count": 86,
   "metadata": {
    "dotnet_interactive": {
     "language": "csharp"
    },
    "polyglot_notebook": {
     "kernelName": "csharp"
    },
    "vscode": {
     "languageId": "polyglot-notebook"
    }
   },
   "outputs": [],
   "source": [
    "using Microsoft.KernelMemory;\n",
    "\n",
    "var memoryPlugin = kernel.ImportPluginFromObject(new MemoryPlugin(memory));"
   ]
  },
  {
   "cell_type": "code",
   "execution_count": 122,
   "metadata": {
    "dotnet_interactive": {
     "language": "csharp"
    },
    "polyglot_notebook": {
     "kernelName": "csharp"
    },
    "vscode": {
     "languageId": "polyglot-notebook"
    }
   },
   "outputs": [
    {
     "name": "stdout",
     "output_type": "stream",
     "text": [
      "Semantic Function ready.\n"
     ]
    }
   ],
   "source": [
    "var skPrompt = \"\"\"\n",
    "Question to Memory: {{$input}}\n",
    "\n",
    "Answer from Memory: {{MemoryPlugin.Ask $input}}\n",
    "\n",
    "If the answer is empty say 'I don't know' otherwise reply with a preview of the answer,\n",
    "truncated to 15 words. Prefix with one emoji relevant to the content.\n",
    "\"\"\";\n",
    "\n",
    "var ragFunction = kernel.CreateFunctionFromPrompt(skPrompt);\n",
    "\n",
    "Console.WriteLine(\"Semantic Function ready.\");"
   ]
  },
  {
   "cell_type": "code",
   "execution_count": 123,
   "metadata": {
    "dotnet_interactive": {
     "language": "csharp"
    },
    "polyglot_notebook": {
     "kernelName": "csharp"
    },
    "vscode": {
     "languageId": "polyglot-notebook"
    }
   },
   "outputs": [
    {
     "name": "stdout",
     "output_type": "stream",
     "text": [
      "🌴 In Germany, the statutory minimum leave entitlement is 24 days per calendar year, not counting Sundays...\n"
     ]
    }
   ],
   "source": [
    "var answer = await ragFunction.InvokeAsync(kernel, \"how many vacations days do I get in Germany?\");\n",
    "\n",
    "Console.WriteLine(answer);"
   ]
  },
  {
   "cell_type": "code",
   "execution_count": 124,
   "metadata": {
    "dotnet_interactive": {
     "language": "csharp"
    },
    "polyglot_notebook": {
     "kernelName": "csharp"
    },
    "vscode": {
     "languageId": "polyglot-notebook"
    }
   },
   "outputs": [
    {
     "name": "stdout",
     "output_type": "stream",
     "text": [
      "🏖 I don't know\n"
     ]
    }
   ],
   "source": [
    "var answer = await ragFunction.InvokeAsync(kernel, \"how many vacations days do I get in Portugal?\");\n",
    "\n",
    "Console.WriteLine(answer);"
   ]
  }
 ],
 "metadata": {
  "language_info": {
   "name": "python"
  }
 },
 "nbformat": 4,
 "nbformat_minor": 2
}
